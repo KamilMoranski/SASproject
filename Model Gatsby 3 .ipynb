{
 "cells": [
  {
   "cell_type": "code",
   "execution_count": 1,
   "id": "29aa0e4c-f5c9-4db5-ac12-8b99be532564",
   "metadata": {},
   "outputs": [],
   "source": [
    "import pandas as pd\n",
    "from pandas.plotting import table\n",
    "import numpy as np\n",
    "import statsmodels.api as sm\n",
    "from pylab import *\n",
    "import matplotlib.pyplot as plt\n",
    "import seaborn as sns\n",
    "from scipy.stats import gamma\n",
    "from scipy import stats\n",
    "import pylab as pl\n",
    "from pandas import *\n",
    "import statsmodels.formula.api as smf\n",
    "import statsmodels.stats.api as sms\n",
    "from statsmodels.compat import lzip"
   ]
  },
  {
   "cell_type": "code",
   "execution_count": 2,
   "id": "e84b5ba8",
   "metadata": {},
   "outputs": [
    {
     "name": "stdout",
     "output_type": "stream",
     "text": [
      "Requirement already satisfied: Stargazer in d:\\python program\\lib\\site-packages (0.0.5)\n"
     ]
    }
   ],
   "source": [
    "!pip install Stargazer"
   ]
  },
  {
   "cell_type": "code",
   "execution_count": 3,
   "id": "17e4a528",
   "metadata": {},
   "outputs": [],
   "source": [
    "from stargazer.stargazer import Stargazer"
   ]
  },
  {
   "cell_type": "code",
   "execution_count": 4,
   "id": "6a850f15",
   "metadata": {},
   "outputs": [],
   "source": [
    "pd.set_option(\"display.float_format\", \"{:.2f}\".format) #format wyświetlania dancych\n",
    "df = pd.read_excel('model4.xlsx') #wgranie bazy danych"
   ]
  },
  {
   "cell_type": "code",
   "execution_count": 5,
   "id": "142956b2-282c-47b6-a46f-8d6ff4eb8535",
   "metadata": {},
   "outputs": [],
   "source": [
    "plt.rc('figure', figsize = (12,8)) #rozmiar wykresów"
   ]
  },
  {
   "cell_type": "code",
   "execution_count": 6,
   "id": "b607fe71-2978-4e9e-b8bd-70a5a4f1c5b4",
   "metadata": {},
   "outputs": [
    {
     "data": {
      "text/html": [
       "<div>\n",
       "<style scoped>\n",
       "    .dataframe tbody tr th:only-of-type {\n",
       "        vertical-align: middle;\n",
       "    }\n",
       "\n",
       "    .dataframe tbody tr th {\n",
       "        vertical-align: top;\n",
       "    }\n",
       "\n",
       "    .dataframe thead th {\n",
       "        text-align: right;\n",
       "    }\n",
       "</style>\n",
       "<table border=\"1\" class=\"dataframe\">\n",
       "  <thead>\n",
       "    <tr style=\"text-align: right;\">\n",
       "      <th></th>\n",
       "      <th>country_name</th>\n",
       "      <th>gdim</th>\n",
       "      <th>gini</th>\n",
       "      <th>palma</th>\n",
       "      <th>pdi</th>\n",
       "      <th>ln_pkb_pc</th>\n",
       "      <th>pkb_pc</th>\n",
       "      <th>priv_pkb</th>\n",
       "      <th>bezrobocie</th>\n",
       "      <th>edu_pkb</th>\n",
       "      <th>edu_pkb_pc_podst</th>\n",
       "      <th>edu_pkb_pc_sr</th>\n",
       "      <th>edu_pkb_pc_wyz</th>\n",
       "      <th>trans_pkb</th>\n",
       "    </tr>\n",
       "  </thead>\n",
       "  <tbody>\n",
       "  </tbody>\n",
       "</table>\n",
       "</div>"
      ],
      "text/plain": [
       "Empty DataFrame\n",
       "Columns: [country_name, gdim, gini, palma, pdi, ln_pkb_pc, pkb_pc, priv_pkb, bezrobocie, edu_pkb, edu_pkb_pc_podst, edu_pkb_pc_sr, edu_pkb_pc_wyz, trans_pkb]\n",
       "Index: []"
      ]
     },
     "execution_count": 6,
     "metadata": {},
     "output_type": "execute_result"
    }
   ],
   "source": [
    "df.head(0) #wyświetlenie nagłówków"
   ]
  },
  {
   "cell_type": "code",
   "execution_count": 7,
   "id": "66d70dcb-0d71-49fe-83f1-795da13bfd2a",
   "metadata": {
    "tags": []
   },
   "outputs": [
    {
     "data": {
      "text/html": [
       "<div>\n",
       "<style scoped>\n",
       "    .dataframe tbody tr th:only-of-type {\n",
       "        vertical-align: middle;\n",
       "    }\n",
       "\n",
       "    .dataframe tbody tr th {\n",
       "        vertical-align: top;\n",
       "    }\n",
       "\n",
       "    .dataframe thead th {\n",
       "        text-align: right;\n",
       "    }\n",
       "</style>\n",
       "<table border=\"1\" class=\"dataframe\">\n",
       "  <thead>\n",
       "    <tr style=\"text-align: right;\">\n",
       "      <th></th>\n",
       "      <th>count</th>\n",
       "      <th>mean</th>\n",
       "      <th>std</th>\n",
       "      <th>min</th>\n",
       "      <th>25%</th>\n",
       "      <th>50%</th>\n",
       "      <th>75%</th>\n",
       "      <th>max</th>\n",
       "    </tr>\n",
       "  </thead>\n",
       "  <tbody>\n",
       "    <tr>\n",
       "      <th>gdim</th>\n",
       "      <td>112.00</td>\n",
       "      <td>58.48</td>\n",
       "      <td>16.47</td>\n",
       "      <td>16.23</td>\n",
       "      <td>47.21</td>\n",
       "      <td>60.85</td>\n",
       "      <td>72.28</td>\n",
       "      <td>93.17</td>\n",
       "    </tr>\n",
       "    <tr>\n",
       "      <th>gini</th>\n",
       "      <td>105.00</td>\n",
       "      <td>38.59</td>\n",
       "      <td>8.92</td>\n",
       "      <td>25.27</td>\n",
       "      <td>32.01</td>\n",
       "      <td>37.14</td>\n",
       "      <td>41.99</td>\n",
       "      <td>64.73</td>\n",
       "    </tr>\n",
       "    <tr>\n",
       "      <th>palma</th>\n",
       "      <td>101.00</td>\n",
       "      <td>5.39</td>\n",
       "      <td>3.81</td>\n",
       "      <td>1.55</td>\n",
       "      <td>2.85</td>\n",
       "      <td>4.44</td>\n",
       "      <td>6.35</td>\n",
       "      <td>19.07</td>\n",
       "    </tr>\n",
       "    <tr>\n",
       "      <th>pdi</th>\n",
       "      <td>74.00</td>\n",
       "      <td>4.91</td>\n",
       "      <td>3.65</td>\n",
       "      <td>1.76</td>\n",
       "      <td>2.78</td>\n",
       "      <td>3.81</td>\n",
       "      <td>5.82</td>\n",
       "      <td>20.65</td>\n",
       "    </tr>\n",
       "    <tr>\n",
       "      <th>ln_pkb_pc</th>\n",
       "      <td>110.00</td>\n",
       "      <td>7.97</td>\n",
       "      <td>1.58</td>\n",
       "      <td>4.97</td>\n",
       "      <td>6.78</td>\n",
       "      <td>7.83</td>\n",
       "      <td>9.01</td>\n",
       "      <td>10.87</td>\n",
       "    </tr>\n",
       "    <tr>\n",
       "      <th>pkb_pc</th>\n",
       "      <td>109.00</td>\n",
       "      <td>1.38</td>\n",
       "      <td>1.10</td>\n",
       "      <td>0.10</td>\n",
       "      <td>0.70</td>\n",
       "      <td>1.01</td>\n",
       "      <td>1.63</td>\n",
       "      <td>6.37</td>\n",
       "    </tr>\n",
       "    <tr>\n",
       "      <th>priv_pkb</th>\n",
       "      <td>90.00</td>\n",
       "      <td>52.71</td>\n",
       "      <td>45.09</td>\n",
       "      <td>2.79</td>\n",
       "      <td>18.13</td>\n",
       "      <td>36.07</td>\n",
       "      <td>77.63</td>\n",
       "      <td>184.15</td>\n",
       "    </tr>\n",
       "    <tr>\n",
       "      <th>bezrobocie</th>\n",
       "      <td>110.00</td>\n",
       "      <td>8.58</td>\n",
       "      <td>6.12</td>\n",
       "      <td>0.58</td>\n",
       "      <td>4.02</td>\n",
       "      <td>7.14</td>\n",
       "      <td>11.31</td>\n",
       "      <td>34.40</td>\n",
       "    </tr>\n",
       "    <tr>\n",
       "      <th>edu_pkb</th>\n",
       "      <td>101.00</td>\n",
       "      <td>4.44</td>\n",
       "      <td>1.69</td>\n",
       "      <td>1.61</td>\n",
       "      <td>3.27</td>\n",
       "      <td>4.32</td>\n",
       "      <td>5.52</td>\n",
       "      <td>11.22</td>\n",
       "    </tr>\n",
       "    <tr>\n",
       "      <th>edu_pkb_pc_podst</th>\n",
       "      <td>77.00</td>\n",
       "      <td>15.76</td>\n",
       "      <td>7.30</td>\n",
       "      <td>3.34</td>\n",
       "      <td>10.83</td>\n",
       "      <td>14.94</td>\n",
       "      <td>19.37</td>\n",
       "      <td>50.20</td>\n",
       "    </tr>\n",
       "    <tr>\n",
       "      <th>edu_pkb_pc_sr</th>\n",
       "      <td>72.00</td>\n",
       "      <td>22.28</td>\n",
       "      <td>11.82</td>\n",
       "      <td>4.85</td>\n",
       "      <td>15.35</td>\n",
       "      <td>20.12</td>\n",
       "      <td>26.54</td>\n",
       "      <td>73.97</td>\n",
       "    </tr>\n",
       "    <tr>\n",
       "      <th>edu_pkb_pc_wyz</th>\n",
       "      <td>82.00</td>\n",
       "      <td>118.02</td>\n",
       "      <td>281.19</td>\n",
       "      <td>7.50</td>\n",
       "      <td>24.27</td>\n",
       "      <td>34.86</td>\n",
       "      <td>84.10</td>\n",
       "      <td>2277.98</td>\n",
       "    </tr>\n",
       "    <tr>\n",
       "      <th>trans_pkb</th>\n",
       "      <td>80.00</td>\n",
       "      <td>40.33</td>\n",
       "      <td>18.40</td>\n",
       "      <td>2.18</td>\n",
       "      <td>26.18</td>\n",
       "      <td>40.72</td>\n",
       "      <td>55.14</td>\n",
       "      <td>80.74</td>\n",
       "    </tr>\n",
       "  </tbody>\n",
       "</table>\n",
       "</div>"
      ],
      "text/plain": [
       "                  count   mean    std   min   25%   50%   75%     max\n",
       "gdim             112.00  58.48  16.47 16.23 47.21 60.85 72.28   93.17\n",
       "gini             105.00  38.59   8.92 25.27 32.01 37.14 41.99   64.73\n",
       "palma            101.00   5.39   3.81  1.55  2.85  4.44  6.35   19.07\n",
       "pdi               74.00   4.91   3.65  1.76  2.78  3.81  5.82   20.65\n",
       "ln_pkb_pc        110.00   7.97   1.58  4.97  6.78  7.83  9.01   10.87\n",
       "pkb_pc           109.00   1.38   1.10  0.10  0.70  1.01  1.63    6.37\n",
       "priv_pkb          90.00  52.71  45.09  2.79 18.13 36.07 77.63  184.15\n",
       "bezrobocie       110.00   8.58   6.12  0.58  4.02  7.14 11.31   34.40\n",
       "edu_pkb          101.00   4.44   1.69  1.61  3.27  4.32  5.52   11.22\n",
       "edu_pkb_pc_podst  77.00  15.76   7.30  3.34 10.83 14.94 19.37   50.20\n",
       "edu_pkb_pc_sr     72.00  22.28  11.82  4.85 15.35 20.12 26.54   73.97\n",
       "edu_pkb_pc_wyz    82.00 118.02 281.19  7.50 24.27 34.86 84.10 2277.98\n",
       "trans_pkb         80.00  40.33  18.40  2.18 26.18 40.72 55.14   80.74"
      ]
     },
     "execution_count": 7,
     "metadata": {},
     "output_type": "execute_result"
    }
   ],
   "source": [
    "df.describe().transpose() #podstawowe charakterystyki"
   ]
  },
  {
   "cell_type": "code",
   "execution_count": 8,
   "id": "d1fa46b9-4109-4c42-a46b-8edb7808f55a",
   "metadata": {},
   "outputs": [
    {
     "data": {
      "text/html": [
       "<div>\n",
       "<style scoped>\n",
       "    .dataframe tbody tr th:only-of-type {\n",
       "        vertical-align: middle;\n",
       "    }\n",
       "\n",
       "    .dataframe tbody tr th {\n",
       "        vertical-align: top;\n",
       "    }\n",
       "\n",
       "    .dataframe thead th {\n",
       "        text-align: right;\n",
       "    }\n",
       "</style>\n",
       "<table border=\"1\" class=\"dataframe\">\n",
       "  <thead>\n",
       "    <tr style=\"text-align: right;\">\n",
       "      <th></th>\n",
       "      <th>gdim</th>\n",
       "      <th>gini</th>\n",
       "      <th>palma</th>\n",
       "      <th>pdi</th>\n",
       "      <th>ln_pkb_pc</th>\n",
       "      <th>pkb_pc</th>\n",
       "      <th>priv_pkb</th>\n",
       "      <th>bezrobocie</th>\n",
       "      <th>edu_pkb</th>\n",
       "      <th>edu_pkb_pc_podst</th>\n",
       "      <th>edu_pkb_pc_sr</th>\n",
       "      <th>edu_pkb_pc_wyz</th>\n",
       "      <th>trans_pkb</th>\n",
       "    </tr>\n",
       "  </thead>\n",
       "  <tbody>\n",
       "    <tr>\n",
       "      <th>gdim</th>\n",
       "      <td>1.00</td>\n",
       "      <td>0.06</td>\n",
       "      <td>0.02</td>\n",
       "      <td>0.06</td>\n",
       "      <td>0.45</td>\n",
       "      <td>-0.04</td>\n",
       "      <td>0.46</td>\n",
       "      <td>0.07</td>\n",
       "      <td>0.24</td>\n",
       "      <td>0.02</td>\n",
       "      <td>-0.21</td>\n",
       "      <td>-0.29</td>\n",
       "      <td>0.15</td>\n",
       "    </tr>\n",
       "    <tr>\n",
       "      <th>gini</th>\n",
       "      <td>0.06</td>\n",
       "      <td>1.00</td>\n",
       "      <td>0.84</td>\n",
       "      <td>0.83</td>\n",
       "      <td>-0.32</td>\n",
       "      <td>-0.21</td>\n",
       "      <td>-0.29</td>\n",
       "      <td>0.11</td>\n",
       "      <td>-0.01</td>\n",
       "      <td>-0.32</td>\n",
       "      <td>-0.01</td>\n",
       "      <td>0.20</td>\n",
       "      <td>-0.36</td>\n",
       "    </tr>\n",
       "    <tr>\n",
       "      <th>palma</th>\n",
       "      <td>0.02</td>\n",
       "      <td>0.84</td>\n",
       "      <td>1.00</td>\n",
       "      <td>0.92</td>\n",
       "      <td>-0.32</td>\n",
       "      <td>-0.16</td>\n",
       "      <td>-0.39</td>\n",
       "      <td>0.11</td>\n",
       "      <td>0.05</td>\n",
       "      <td>-0.26</td>\n",
       "      <td>0.04</td>\n",
       "      <td>0.21</td>\n",
       "      <td>-0.38</td>\n",
       "    </tr>\n",
       "    <tr>\n",
       "      <th>pdi</th>\n",
       "      <td>0.06</td>\n",
       "      <td>0.83</td>\n",
       "      <td>0.92</td>\n",
       "      <td>1.00</td>\n",
       "      <td>-0.30</td>\n",
       "      <td>-0.16</td>\n",
       "      <td>-0.38</td>\n",
       "      <td>0.08</td>\n",
       "      <td>-0.09</td>\n",
       "      <td>-0.28</td>\n",
       "      <td>-0.14</td>\n",
       "      <td>0.18</td>\n",
       "      <td>-0.28</td>\n",
       "    </tr>\n",
       "    <tr>\n",
       "      <th>ln_pkb_pc</th>\n",
       "      <td>0.45</td>\n",
       "      <td>-0.32</td>\n",
       "      <td>-0.32</td>\n",
       "      <td>-0.30</td>\n",
       "      <td>1.00</td>\n",
       "      <td>-0.10</td>\n",
       "      <td>0.76</td>\n",
       "      <td>0.06</td>\n",
       "      <td>0.38</td>\n",
       "      <td>0.29</td>\n",
       "      <td>0.01</td>\n",
       "      <td>-0.38</td>\n",
       "      <td>0.55</td>\n",
       "    </tr>\n",
       "    <tr>\n",
       "      <th>pkb_pc</th>\n",
       "      <td>-0.04</td>\n",
       "      <td>-0.21</td>\n",
       "      <td>-0.16</td>\n",
       "      <td>-0.16</td>\n",
       "      <td>-0.10</td>\n",
       "      <td>1.00</td>\n",
       "      <td>-0.18</td>\n",
       "      <td>0.13</td>\n",
       "      <td>-0.16</td>\n",
       "      <td>0.06</td>\n",
       "      <td>-0.16</td>\n",
       "      <td>-0.15</td>\n",
       "      <td>0.03</td>\n",
       "    </tr>\n",
       "    <tr>\n",
       "      <th>priv_pkb</th>\n",
       "      <td>0.46</td>\n",
       "      <td>-0.29</td>\n",
       "      <td>-0.39</td>\n",
       "      <td>-0.38</td>\n",
       "      <td>0.76</td>\n",
       "      <td>-0.18</td>\n",
       "      <td>1.00</td>\n",
       "      <td>-0.11</td>\n",
       "      <td>0.25</td>\n",
       "      <td>0.20</td>\n",
       "      <td>0.02</td>\n",
       "      <td>-0.31</td>\n",
       "      <td>0.44</td>\n",
       "    </tr>\n",
       "    <tr>\n",
       "      <th>bezrobocie</th>\n",
       "      <td>0.07</td>\n",
       "      <td>0.11</td>\n",
       "      <td>0.11</td>\n",
       "      <td>0.08</td>\n",
       "      <td>0.06</td>\n",
       "      <td>0.13</td>\n",
       "      <td>-0.11</td>\n",
       "      <td>1.00</td>\n",
       "      <td>0.15</td>\n",
       "      <td>0.15</td>\n",
       "      <td>0.13</td>\n",
       "      <td>-0.03</td>\n",
       "      <td>0.08</td>\n",
       "    </tr>\n",
       "    <tr>\n",
       "      <th>edu_pkb</th>\n",
       "      <td>0.24</td>\n",
       "      <td>-0.01</td>\n",
       "      <td>0.05</td>\n",
       "      <td>-0.09</td>\n",
       "      <td>0.38</td>\n",
       "      <td>-0.16</td>\n",
       "      <td>0.25</td>\n",
       "      <td>0.15</td>\n",
       "      <td>1.00</td>\n",
       "      <td>0.45</td>\n",
       "      <td>0.60</td>\n",
       "      <td>0.12</td>\n",
       "      <td>0.11</td>\n",
       "    </tr>\n",
       "    <tr>\n",
       "      <th>edu_pkb_pc_podst</th>\n",
       "      <td>0.02</td>\n",
       "      <td>-0.32</td>\n",
       "      <td>-0.26</td>\n",
       "      <td>-0.28</td>\n",
       "      <td>0.29</td>\n",
       "      <td>0.06</td>\n",
       "      <td>0.20</td>\n",
       "      <td>0.15</td>\n",
       "      <td>0.45</td>\n",
       "      <td>1.00</td>\n",
       "      <td>0.33</td>\n",
       "      <td>-0.05</td>\n",
       "      <td>0.27</td>\n",
       "    </tr>\n",
       "    <tr>\n",
       "      <th>edu_pkb_pc_sr</th>\n",
       "      <td>-0.21</td>\n",
       "      <td>-0.01</td>\n",
       "      <td>0.04</td>\n",
       "      <td>-0.14</td>\n",
       "      <td>0.01</td>\n",
       "      <td>-0.16</td>\n",
       "      <td>0.02</td>\n",
       "      <td>0.13</td>\n",
       "      <td>0.60</td>\n",
       "      <td>0.33</td>\n",
       "      <td>1.00</td>\n",
       "      <td>0.24</td>\n",
       "      <td>-0.05</td>\n",
       "    </tr>\n",
       "    <tr>\n",
       "      <th>edu_pkb_pc_wyz</th>\n",
       "      <td>-0.29</td>\n",
       "      <td>0.20</td>\n",
       "      <td>0.21</td>\n",
       "      <td>0.18</td>\n",
       "      <td>-0.38</td>\n",
       "      <td>-0.15</td>\n",
       "      <td>-0.31</td>\n",
       "      <td>-0.03</td>\n",
       "      <td>0.12</td>\n",
       "      <td>-0.05</td>\n",
       "      <td>0.24</td>\n",
       "      <td>1.00</td>\n",
       "      <td>-0.35</td>\n",
       "    </tr>\n",
       "    <tr>\n",
       "      <th>trans_pkb</th>\n",
       "      <td>0.15</td>\n",
       "      <td>-0.36</td>\n",
       "      <td>-0.38</td>\n",
       "      <td>-0.28</td>\n",
       "      <td>0.55</td>\n",
       "      <td>0.03</td>\n",
       "      <td>0.44</td>\n",
       "      <td>0.08</td>\n",
       "      <td>0.11</td>\n",
       "      <td>0.27</td>\n",
       "      <td>-0.05</td>\n",
       "      <td>-0.35</td>\n",
       "      <td>1.00</td>\n",
       "    </tr>\n",
       "  </tbody>\n",
       "</table>\n",
       "</div>"
      ],
      "text/plain": [
       "                  gdim  gini  palma   pdi  ln_pkb_pc  pkb_pc  priv_pkb  \\\n",
       "gdim              1.00  0.06   0.02  0.06       0.45   -0.04      0.46   \n",
       "gini              0.06  1.00   0.84  0.83      -0.32   -0.21     -0.29   \n",
       "palma             0.02  0.84   1.00  0.92      -0.32   -0.16     -0.39   \n",
       "pdi               0.06  0.83   0.92  1.00      -0.30   -0.16     -0.38   \n",
       "ln_pkb_pc         0.45 -0.32  -0.32 -0.30       1.00   -0.10      0.76   \n",
       "pkb_pc           -0.04 -0.21  -0.16 -0.16      -0.10    1.00     -0.18   \n",
       "priv_pkb          0.46 -0.29  -0.39 -0.38       0.76   -0.18      1.00   \n",
       "bezrobocie        0.07  0.11   0.11  0.08       0.06    0.13     -0.11   \n",
       "edu_pkb           0.24 -0.01   0.05 -0.09       0.38   -0.16      0.25   \n",
       "edu_pkb_pc_podst  0.02 -0.32  -0.26 -0.28       0.29    0.06      0.20   \n",
       "edu_pkb_pc_sr    -0.21 -0.01   0.04 -0.14       0.01   -0.16      0.02   \n",
       "edu_pkb_pc_wyz   -0.29  0.20   0.21  0.18      -0.38   -0.15     -0.31   \n",
       "trans_pkb         0.15 -0.36  -0.38 -0.28       0.55    0.03      0.44   \n",
       "\n",
       "                  bezrobocie  edu_pkb  edu_pkb_pc_podst  edu_pkb_pc_sr  \\\n",
       "gdim                    0.07     0.24              0.02          -0.21   \n",
       "gini                    0.11    -0.01             -0.32          -0.01   \n",
       "palma                   0.11     0.05             -0.26           0.04   \n",
       "pdi                     0.08    -0.09             -0.28          -0.14   \n",
       "ln_pkb_pc               0.06     0.38              0.29           0.01   \n",
       "pkb_pc                  0.13    -0.16              0.06          -0.16   \n",
       "priv_pkb               -0.11     0.25              0.20           0.02   \n",
       "bezrobocie              1.00     0.15              0.15           0.13   \n",
       "edu_pkb                 0.15     1.00              0.45           0.60   \n",
       "edu_pkb_pc_podst        0.15     0.45              1.00           0.33   \n",
       "edu_pkb_pc_sr           0.13     0.60              0.33           1.00   \n",
       "edu_pkb_pc_wyz         -0.03     0.12             -0.05           0.24   \n",
       "trans_pkb               0.08     0.11              0.27          -0.05   \n",
       "\n",
       "                  edu_pkb_pc_wyz  trans_pkb  \n",
       "gdim                       -0.29       0.15  \n",
       "gini                        0.20      -0.36  \n",
       "palma                       0.21      -0.38  \n",
       "pdi                         0.18      -0.28  \n",
       "ln_pkb_pc                  -0.38       0.55  \n",
       "pkb_pc                     -0.15       0.03  \n",
       "priv_pkb                   -0.31       0.44  \n",
       "bezrobocie                 -0.03       0.08  \n",
       "edu_pkb                     0.12       0.11  \n",
       "edu_pkb_pc_podst           -0.05       0.27  \n",
       "edu_pkb_pc_sr               0.24      -0.05  \n",
       "edu_pkb_pc_wyz              1.00      -0.35  \n",
       "trans_pkb                  -0.35       1.00  "
      ]
     },
     "execution_count": 8,
     "metadata": {},
     "output_type": "execute_result"
    }
   ],
   "source": [
    "df.corr(method = 'pearson') #macierz korelacji"
   ]
  },
  {
   "cell_type": "code",
   "execution_count": 9,
   "id": "188909c6-4bdb-418c-8c47-e8592567e8cd",
   "metadata": {},
   "outputs": [
    {
     "data": {
      "image/png": "[encoded data removed]",
      "text/plain": [
       "<Figure size 1500x1100 with 2 Axes>"
      ]
     },
     "metadata": {},
     "output_type": "display_data"
    }
   ],
   "source": [
    "#heatmapka korelacji\n",
    "\n",
    "# Calculate pairwise-correlation\n",
    "matrix = df.corr(method = 'pearson')\n",
    "\n",
    "# Create a mask\n",
    "mask = np.triu(np.ones_like(matrix, dtype=bool))\n",
    "\n",
    "# Create a custom divergin palette\n",
    "cmap = sns.diverging_palette(250, 15, s=75, l=40,\n",
    "                            n=9, center=\"light\", as_cmap=True)\n",
    "\n",
    "plt.figure(figsize=(15, 11))\n",
    "sns.heatmap(matrix, mask=mask, center=0, annot=True,\n",
    "            fmt='.2f', square=True, cmap=cmap)\n",
    "\n",
    "savefig(\"heatmap.jpg\")\n",
    "plt.show();"
   ]
  },
  {
   "cell_type": "code",
   "execution_count": 10,
   "id": "6f0cabe5-cc20-4df8-9d87-8545213b61bd",
   "metadata": {},
   "outputs": [
    {
     "ename": "KeyError",
     "evalue": "'gdmi_2'",
     "output_type": "error",
     "traceback": [
      "\u001b[1;31m---------------------------------------------------------------------------\u001b[0m",
      "\u001b[1;31mKeyError\u001b[0m                                  Traceback (most recent call last)",
      "\u001b[1;32mD:\\python program\\lib\\site-packages\\pandas\\core\\indexes\\base.py\u001b[0m in \u001b[0;36mget_loc\u001b[1;34m(self, key, method, tolerance)\u001b[0m\n\u001b[0;32m   3628\u001b[0m             \u001b[1;32mtry\u001b[0m\u001b[1;33m:\u001b[0m\u001b[1;33m\u001b[0m\u001b[1;33m\u001b[0m\u001b[0m\n\u001b[1;32m-> 3629\u001b[1;33m                 \u001b[1;32mreturn\u001b[0m \u001b[0mself\u001b[0m\u001b[1;33m.\u001b[0m\u001b[0m_engine\u001b[0m\u001b[1;33m.\u001b[0m\u001b[0mget_loc\u001b[0m\u001b[1;33m(\u001b[0m\u001b[0mcasted_key\u001b[0m\u001b[1;33m)\u001b[0m\u001b[1;33m\u001b[0m\u001b[1;33m\u001b[0m\u001b[0m\n\u001b[0m\u001b[0;32m   3630\u001b[0m             \u001b[1;32mexcept\u001b[0m \u001b[0mKeyError\u001b[0m \u001b[1;32mas\u001b[0m \u001b[0merr\u001b[0m\u001b[1;33m:\u001b[0m\u001b[1;33m\u001b[0m\u001b[1;33m\u001b[0m\u001b[0m\n",
      "\u001b[1;32mD:\\python program\\lib\\site-packages\\pandas\\_libs\\index.pyx\u001b[0m in \u001b[0;36mpandas._libs.index.IndexEngine.get_loc\u001b[1;34m()\u001b[0m\n",
      "\u001b[1;32mD:\\python program\\lib\\site-packages\\pandas\\_libs\\index.pyx\u001b[0m in \u001b[0;36mpandas._libs.index.IndexEngine.get_loc\u001b[1;34m()\u001b[0m\n",
      "\u001b[1;32mpandas\\_libs\\hashtable_class_helper.pxi\u001b[0m in \u001b[0;36mpandas._libs.hashtable.PyObjectHashTable.get_item\u001b[1;34m()\u001b[0m\n",
      "\u001b[1;32mpandas\\_libs\\hashtable_class_helper.pxi\u001b[0m in \u001b[0;36mpandas._libs.hashtable.PyObjectHashTable.get_item\u001b[1;34m()\u001b[0m\n",
      "\u001b[1;31mKeyError\u001b[0m: 'gdmi_2'",
      "\nThe above exception was the direct cause of the following exception:\n",
      "\u001b[1;31mKeyError\u001b[0m                                  Traceback (most recent call last)",
      "\u001b[1;32m~\\AppData\\Local\\Temp\\ipykernel_20180\\3008705211.py\u001b[0m in \u001b[0;36m<module>\u001b[1;34m\u001b[0m\n\u001b[1;32m----> 1\u001b[1;33m \u001b[0mdf\u001b[0m\u001b[1;33m[\u001b[0m\u001b[1;34m'gdmi_2'\u001b[0m\u001b[1;33m]\u001b[0m\u001b[1;33m.\u001b[0m\u001b[0mdescribe\u001b[0m\u001b[1;33m(\u001b[0m\u001b[1;33m)\u001b[0m\u001b[1;33m.\u001b[0m\u001b[0mtranspose\u001b[0m\u001b[1;33m(\u001b[0m\u001b[1;33m)\u001b[0m \u001b[1;31m#statystyki y\u001b[0m\u001b[1;33m\u001b[0m\u001b[1;33m\u001b[0m\u001b[0m\n\u001b[0m",
      "\u001b[1;32mD:\\python program\\lib\\site-packages\\pandas\\core\\frame.py\u001b[0m in \u001b[0;36m__getitem__\u001b[1;34m(self, key)\u001b[0m\n\u001b[0;32m   3503\u001b[0m             \u001b[1;32mif\u001b[0m \u001b[0mself\u001b[0m\u001b[1;33m.\u001b[0m\u001b[0mcolumns\u001b[0m\u001b[1;33m.\u001b[0m\u001b[0mnlevels\u001b[0m \u001b[1;33m>\u001b[0m \u001b[1;36m1\u001b[0m\u001b[1;33m:\u001b[0m\u001b[1;33m\u001b[0m\u001b[1;33m\u001b[0m\u001b[0m\n\u001b[0;32m   3504\u001b[0m                 \u001b[1;32mreturn\u001b[0m \u001b[0mself\u001b[0m\u001b[1;33m.\u001b[0m\u001b[0m_getitem_multilevel\u001b[0m\u001b[1;33m(\u001b[0m\u001b[0mkey\u001b[0m\u001b[1;33m)\u001b[0m\u001b[1;33m\u001b[0m\u001b[1;33m\u001b[0m\u001b[0m\n\u001b[1;32m-> 3505\u001b[1;33m             \u001b[0mindexer\u001b[0m \u001b[1;33m=\u001b[0m \u001b[0mself\u001b[0m\u001b[1;33m.\u001b[0m\u001b[0mcolumns\u001b[0m\u001b[1;33m.\u001b[0m\u001b[0mget_loc\u001b[0m\u001b[1;33m(\u001b[0m\u001b[0mkey\u001b[0m\u001b[1;33m)\u001b[0m\u001b[1;33m\u001b[0m\u001b[1;33m\u001b[0m\u001b[0m\n\u001b[0m\u001b[0;32m   3506\u001b[0m             \u001b[1;32mif\u001b[0m \u001b[0mis_integer\u001b[0m\u001b[1;33m(\u001b[0m\u001b[0mindexer\u001b[0m\u001b[1;33m)\u001b[0m\u001b[1;33m:\u001b[0m\u001b[1;33m\u001b[0m\u001b[1;33m\u001b[0m\u001b[0m\n\u001b[0;32m   3507\u001b[0m                 \u001b[0mindexer\u001b[0m \u001b[1;33m=\u001b[0m \u001b[1;33m[\u001b[0m\u001b[0mindexer\u001b[0m\u001b[1;33m]\u001b[0m\u001b[1;33m\u001b[0m\u001b[1;33m\u001b[0m\u001b[0m\n",
      "\u001b[1;32mD:\\python program\\lib\\site-packages\\pandas\\core\\indexes\\base.py\u001b[0m in \u001b[0;36mget_loc\u001b[1;34m(self, key, method, tolerance)\u001b[0m\n\u001b[0;32m   3629\u001b[0m                 \u001b[1;32mreturn\u001b[0m \u001b[0mself\u001b[0m\u001b[1;33m.\u001b[0m\u001b[0m_engine\u001b[0m\u001b[1;33m.\u001b[0m\u001b[0mget_loc\u001b[0m\u001b[1;33m(\u001b[0m\u001b[0mcasted_key\u001b[0m\u001b[1;33m)\u001b[0m\u001b[1;33m\u001b[0m\u001b[1;33m\u001b[0m\u001b[0m\n\u001b[0;32m   3630\u001b[0m             \u001b[1;32mexcept\u001b[0m \u001b[0mKeyError\u001b[0m \u001b[1;32mas\u001b[0m \u001b[0merr\u001b[0m\u001b[1;33m:\u001b[0m\u001b[1;33m\u001b[0m\u001b[1;33m\u001b[0m\u001b[0m\n\u001b[1;32m-> 3631\u001b[1;33m                 \u001b[1;32mraise\u001b[0m \u001b[0mKeyError\u001b[0m\u001b[1;33m(\u001b[0m\u001b[0mkey\u001b[0m\u001b[1;33m)\u001b[0m \u001b[1;32mfrom\u001b[0m \u001b[0merr\u001b[0m\u001b[1;33m\u001b[0m\u001b[1;33m\u001b[0m\u001b[0m\n\u001b[0m\u001b[0;32m   3632\u001b[0m             \u001b[1;32mexcept\u001b[0m \u001b[0mTypeError\u001b[0m\u001b[1;33m:\u001b[0m\u001b[1;33m\u001b[0m\u001b[1;33m\u001b[0m\u001b[0m\n\u001b[0;32m   3633\u001b[0m                 \u001b[1;31m# If we have a listlike key, _check_indexing_error will raise\u001b[0m\u001b[1;33m\u001b[0m\u001b[1;33m\u001b[0m\u001b[0m\n",
      "\u001b[1;31mKeyError\u001b[0m: 'gdmi_2'"
     ]
    }
   ],
   "source": [
    "df['gdmi_2'].describe().transpose() #statystyki y"
   ]
  },
  {
   "cell_type": "code",
   "execution_count": null,
   "id": "1932df26-2916-4586-9a85-d93ff60242b2",
   "metadata": {},
   "outputs": [],
   "source": [
    "#histogramy y\n",
    "\n",
    "hist(df['gdmi_1'], bins=15, edgecolor = 'black', color = 'mediumorchid')\n",
    "pl.xlabel(\"GDMI\")\n",
    "pl.ylabel(\"Liczba krajów\")\n",
    "savefig('hist_price.jpg')\n",
    "show()"
   ]
  },
  {
   "cell_type": "code",
   "execution_count": null,
   "id": "b32a0076-65b1-47e4-81a1-91bd6dc1808f",
   "metadata": {},
   "outputs": [],
   "source": [
    "#model 1\n",
    "m1b = smf.ols(formula = 'gdim ~ gini + palma + pkb_pc + ln_pkb_pc + priv_pkb + bezrobocie + edu_pkb + trans_pkb', data = df).fit()\n",
    "m1b.summary()"
   ]
  },
  {
   "cell_type": "code",
   "execution_count": 11,
   "id": "fcf1a78d",
   "metadata": {},
   "outputs": [
    {
     "data": {
      "text/html": [
       "<table class=\"simpletable\">\n",
       "<caption>OLS Regression Results</caption>\n",
       "<tr>\n",
       "  <th>Dep. Variable:</th>          <td>gdim</td>       <th>  R-squared:         </th> <td>   0.417</td>\n",
       "</tr>\n",
       "<tr>\n",
       "  <th>Model:</th>                   <td>OLS</td>       <th>  Adj. R-squared:    </th> <td>   0.311</td>\n",
       "</tr>\n",
       "<tr>\n",
       "  <th>Method:</th>             <td>Least Squares</td>  <th>  F-statistic:       </th> <td>   3.928</td>\n",
       "</tr>\n",
       "<tr>\n",
       "  <th>Date:</th>             <td>Fri, 02 Jun 2023</td> <th>  Prob (F-statistic):</th>  <td>0.00142</td>\n",
       "</tr>\n",
       "<tr>\n",
       "  <th>Time:</th>                 <td>15:54:02</td>     <th>  Log-Likelihood:    </th> <td> -207.89</td>\n",
       "</tr>\n",
       "<tr>\n",
       "  <th>No. Observations:</th>      <td>    53</td>      <th>  AIC:               </th> <td>   433.8</td>\n",
       "</tr>\n",
       "<tr>\n",
       "  <th>Df Residuals:</th>          <td>    44</td>      <th>  BIC:               </th> <td>   451.5</td>\n",
       "</tr>\n",
       "<tr>\n",
       "  <th>Df Model:</th>              <td>     8</td>      <th>                     </th>     <td> </td>   \n",
       "</tr>\n",
       "<tr>\n",
       "  <th>Covariance Type:</th>      <td>nonrobust</td>    <th>                     </th>     <td> </td>   \n",
       "</tr>\n",
       "</table>\n",
       "<table class=\"simpletable\">\n",
       "<tr>\n",
       "       <td></td>         <th>coef</th>     <th>std err</th>      <th>t</th>      <th>P>|t|</th>  <th>[0.025</th>    <th>0.975]</th>  \n",
       "</tr>\n",
       "<tr>\n",
       "  <th>Intercept</th>  <td>   26.3508</td> <td>   24.128</td> <td>    1.092</td> <td> 0.281</td> <td>  -22.277</td> <td>   74.978</td>\n",
       "</tr>\n",
       "<tr>\n",
       "  <th>gini</th>       <td>   -0.1743</td> <td>    0.506</td> <td>   -0.345</td> <td> 0.732</td> <td>   -1.193</td> <td>    0.845</td>\n",
       "</tr>\n",
       "<tr>\n",
       "  <th>palma</th>      <td>    1.8851</td> <td>    1.130</td> <td>    1.668</td> <td> 0.103</td> <td>   -0.393</td> <td>    4.163</td>\n",
       "</tr>\n",
       "<tr>\n",
       "  <th>pkb_pc</th>     <td>    3.0193</td> <td>    3.180</td> <td>    0.950</td> <td> 0.348</td> <td>   -3.389</td> <td>    9.427</td>\n",
       "</tr>\n",
       "<tr>\n",
       "  <th>ln_pkb_pc</th>  <td>    2.4810</td> <td>    2.290</td> <td>    1.083</td> <td> 0.285</td> <td>   -2.135</td> <td>    7.097</td>\n",
       "</tr>\n",
       "<tr>\n",
       "  <th>priv_pkb</th>   <td>    0.2292</td> <td>    0.080</td> <td>    2.869</td> <td> 0.006</td> <td>    0.068</td> <td>    0.390</td>\n",
       "</tr>\n",
       "<tr>\n",
       "  <th>bezrobocie</th> <td>    0.8401</td> <td>    0.527</td> <td>    1.594</td> <td> 0.118</td> <td>   -0.222</td> <td>    1.902</td>\n",
       "</tr>\n",
       "<tr>\n",
       "  <th>edu_pkb</th>    <td>   -1.5719</td> <td>    1.304</td> <td>   -1.205</td> <td> 0.234</td> <td>   -4.200</td> <td>    1.056</td>\n",
       "</tr>\n",
       "<tr>\n",
       "  <th>trans_pkb</th>  <td>   -0.1423</td> <td>    0.125</td> <td>   -1.141</td> <td> 0.260</td> <td>   -0.394</td> <td>    0.109</td>\n",
       "</tr>\n",
       "</table>\n",
       "<table class=\"simpletable\">\n",
       "<tr>\n",
       "  <th>Omnibus:</th>       <td> 0.496</td> <th>  Durbin-Watson:     </th> <td>   0.774</td>\n",
       "</tr>\n",
       "<tr>\n",
       "  <th>Prob(Omnibus):</th> <td> 0.780</td> <th>  Jarque-Bera (JB):  </th> <td>   0.387</td>\n",
       "</tr>\n",
       "<tr>\n",
       "  <th>Skew:</th>          <td>-0.203</td> <th>  Prob(JB):          </th> <td>   0.824</td>\n",
       "</tr>\n",
       "<tr>\n",
       "  <th>Kurtosis:</th>      <td> 2.898</td> <th>  Cond. No.          </th> <td>1.21e+03</td>\n",
       "</tr>\n",
       "</table><br/><br/>Notes:<br/>[1] Standard Errors assume that the covariance matrix of the errors is correctly specified.<br/>[2] The condition number is large, 1.21e+03. This might indicate that there are<br/>strong multicollinearity or other numerical problems."
      ],
      "text/plain": [
       "<class 'statsmodels.iolib.summary.Summary'>\n",
       "\"\"\"\n",
       "                            OLS Regression Results                            \n",
       "==============================================================================\n",
       "Dep. Variable:                   gdim   R-squared:                       0.417\n",
       "Model:                            OLS   Adj. R-squared:                  0.311\n",
       "Method:                 Least Squares   F-statistic:                     3.928\n",
       "Date:                Fri, 02 Jun 2023   Prob (F-statistic):            0.00142\n",
       "Time:                        15:54:02   Log-Likelihood:                -207.89\n",
       "No. Observations:                  53   AIC:                             433.8\n",
       "Df Residuals:                      44   BIC:                             451.5\n",
       "Df Model:                           8                                         \n",
       "Covariance Type:            nonrobust                                         \n",
       "==============================================================================\n",
       "                 coef    std err          t      P>|t|      [0.025      0.975]\n",
       "------------------------------------------------------------------------------\n",
       "Intercept     26.3508     24.128      1.092      0.281     -22.277      74.978\n",
       "gini          -0.1743      0.506     -0.345      0.732      -1.193       0.845\n",
       "palma          1.8851      1.130      1.668      0.103      -0.393       4.163\n",
       "pkb_pc         3.0193      3.180      0.950      0.348      -3.389       9.427\n",
       "ln_pkb_pc      2.4810      2.290      1.083      0.285      -2.135       7.097\n",
       "priv_pkb       0.2292      0.080      2.869      0.006       0.068       0.390\n",
       "bezrobocie     0.8401      0.527      1.594      0.118      -0.222       1.902\n",
       "edu_pkb       -1.5719      1.304     -1.205      0.234      -4.200       1.056\n",
       "trans_pkb     -0.1423      0.125     -1.141      0.260      -0.394       0.109\n",
       "==============================================================================\n",
       "Omnibus:                        0.496   Durbin-Watson:                   0.774\n",
       "Prob(Omnibus):                  0.780   Jarque-Bera (JB):                0.387\n",
       "Skew:                          -0.203   Prob(JB):                        0.824\n",
       "Kurtosis:                       2.898   Cond. No.                     1.21e+03\n",
       "==============================================================================\n",
       "\n",
       "Notes:\n",
       "[1] Standard Errors assume that the covariance matrix of the errors is correctly specified.\n",
       "[2] The condition number is large, 1.21e+03. This might indicate that there are\n",
       "strong multicollinearity or other numerical problems.\n",
       "\"\"\""
      ]
     },
     "execution_count": 11,
     "metadata": {},
     "output_type": "execute_result"
    }
   ],
   "source": [
    "#model 1\n",
    "m1 = smf.ols(formula = 'gdim ~ gini + palma + pkb_pc + ln_pkb_pc + priv_pkb + bezrobocie + edu_pkb + trans_pkb', data = df).fit()\n",
    "m1.summary()"
   ]
  },
  {
   "cell_type": "code",
   "execution_count": null,
   "id": "87b2aeef-8506-4265-9f76-b51a7aa1c9d8",
   "metadata": {},
   "outputs": [],
   "source": [
    "hip1 = '(gini_2 = 0),(edu_pkb = 0),(ln_pkb_pc=0)' #H0 o nieistotności"
   ]
  },
  {
   "cell_type": "code",
   "execution_count": null,
   "id": "b1198fa7-9b99-43ed-a88a-bb6681b4e793",
   "metadata": {},
   "outputs": [],
   "source": [
    "m1.f_test(hip1) #F test"
   ]
  },
  {
   "cell_type": "code",
   "execution_count": null,
   "id": "16cb5b88-d986-49ff-bf9a-3c04f6342247",
   "metadata": {},
   "outputs": [],
   "source": [
    "#pvalue > 0.05 => nie ma podstaw do odrzucenia H0"
   ]
  },
  {
   "cell_type": "code",
   "execution_count": 12,
   "id": "511de4ba-0e97-4152-9ed7-4a39c618298b",
   "metadata": {},
   "outputs": [
    {
     "data": {
      "text/html": [
       "<table class=\"simpletable\">\n",
       "<caption>OLS Regression Results</caption>\n",
       "<tr>\n",
       "  <th>Dep. Variable:</th>          <td>gdim</td>       <th>  R-squared:         </th> <td>   0.357</td>\n",
       "</tr>\n",
       "<tr>\n",
       "  <th>Model:</th>                   <td>OLS</td>       <th>  Adj. R-squared:    </th> <td>   0.276</td>\n",
       "</tr>\n",
       "<tr>\n",
       "  <th>Method:</th>             <td>Least Squares</td>  <th>  F-statistic:       </th> <td>   4.436</td>\n",
       "</tr>\n",
       "<tr>\n",
       "  <th>Date:</th>             <td>Fri, 02 Jun 2023</td> <th>  Prob (F-statistic):</th>  <td>0.00120</td>\n",
       "</tr>\n",
       "<tr>\n",
       "  <th>Time:</th>                 <td>15:54:06</td>     <th>  Log-Likelihood:    </th> <td> -217.43</td>\n",
       "</tr>\n",
       "<tr>\n",
       "  <th>No. Observations:</th>      <td>    55</td>      <th>  AIC:               </th> <td>   448.9</td>\n",
       "</tr>\n",
       "<tr>\n",
       "  <th>Df Residuals:</th>          <td>    48</td>      <th>  BIC:               </th> <td>   462.9</td>\n",
       "</tr>\n",
       "<tr>\n",
       "  <th>Df Model:</th>              <td>     6</td>      <th>                     </th>     <td> </td>   \n",
       "</tr>\n",
       "<tr>\n",
       "  <th>Covariance Type:</th>      <td>nonrobust</td>    <th>                     </th>     <td> </td>   \n",
       "</tr>\n",
       "</table>\n",
       "<table class=\"simpletable\">\n",
       "<tr>\n",
       "       <td></td>         <th>coef</th>     <th>std err</th>      <th>t</th>      <th>P>|t|</th>  <th>[0.025</th>    <th>0.975]</th>  \n",
       "</tr>\n",
       "<tr>\n",
       "  <th>Intercept</th>  <td>   24.7783</td> <td>   15.008</td> <td>    1.651</td> <td> 0.105</td> <td>   -5.398</td> <td>   54.954</td>\n",
       "</tr>\n",
       "<tr>\n",
       "  <th>palma</th>      <td>    1.3928</td> <td>    0.643</td> <td>    2.166</td> <td> 0.035</td> <td>    0.100</td> <td>    2.686</td>\n",
       "</tr>\n",
       "<tr>\n",
       "  <th>ln_pkb_pc</th>  <td>    3.1221</td> <td>    2.165</td> <td>    1.442</td> <td> 0.156</td> <td>   -1.231</td> <td>    7.475</td>\n",
       "</tr>\n",
       "<tr>\n",
       "  <th>priv_pkb</th>   <td>    0.1560</td> <td>    0.065</td> <td>    2.409</td> <td> 0.020</td> <td>    0.026</td> <td>    0.286</td>\n",
       "</tr>\n",
       "<tr>\n",
       "  <th>bezrobocie</th> <td>    0.6571</td> <td>    0.477</td> <td>    1.379</td> <td> 0.174</td> <td>   -0.301</td> <td>    1.615</td>\n",
       "</tr>\n",
       "<tr>\n",
       "  <th>edu_pkb</th>    <td>   -1.2147</td> <td>    1.235</td> <td>   -0.983</td> <td> 0.330</td> <td>   -3.698</td> <td>    1.269</td>\n",
       "</tr>\n",
       "<tr>\n",
       "  <th>trans_pkb</th>  <td>   -0.1482</td> <td>    0.124</td> <td>   -1.200</td> <td> 0.236</td> <td>   -0.397</td> <td>    0.100</td>\n",
       "</tr>\n",
       "</table>\n",
       "<table class=\"simpletable\">\n",
       "<tr>\n",
       "  <th>Omnibus:</th>       <td> 0.869</td> <th>  Durbin-Watson:     </th> <td>   0.765</td>\n",
       "</tr>\n",
       "<tr>\n",
       "  <th>Prob(Omnibus):</th> <td> 0.648</td> <th>  Jarque-Bera (JB):  </th> <td>   0.583</td>\n",
       "</tr>\n",
       "<tr>\n",
       "  <th>Skew:</th>          <td>-0.252</td> <th>  Prob(JB):          </th> <td>   0.747</td>\n",
       "</tr>\n",
       "<tr>\n",
       "  <th>Kurtosis:</th>      <td> 3.004</td> <th>  Cond. No.          </th> <td>    741.</td>\n",
       "</tr>\n",
       "</table><br/><br/>Notes:<br/>[1] Standard Errors assume that the covariance matrix of the errors is correctly specified."
      ],
      "text/plain": [
       "<class 'statsmodels.iolib.summary.Summary'>\n",
       "\"\"\"\n",
       "                            OLS Regression Results                            \n",
       "==============================================================================\n",
       "Dep. Variable:                   gdim   R-squared:                       0.357\n",
       "Model:                            OLS   Adj. R-squared:                  0.276\n",
       "Method:                 Least Squares   F-statistic:                     4.436\n",
       "Date:                Fri, 02 Jun 2023   Prob (F-statistic):            0.00120\n",
       "Time:                        15:54:06   Log-Likelihood:                -217.43\n",
       "No. Observations:                  55   AIC:                             448.9\n",
       "Df Residuals:                      48   BIC:                             462.9\n",
       "Df Model:                           6                                         \n",
       "Covariance Type:            nonrobust                                         \n",
       "==============================================================================\n",
       "                 coef    std err          t      P>|t|      [0.025      0.975]\n",
       "------------------------------------------------------------------------------\n",
       "Intercept     24.7783     15.008      1.651      0.105      -5.398      54.954\n",
       "palma          1.3928      0.643      2.166      0.035       0.100       2.686\n",
       "ln_pkb_pc      3.1221      2.165      1.442      0.156      -1.231       7.475\n",
       "priv_pkb       0.1560      0.065      2.409      0.020       0.026       0.286\n",
       "bezrobocie     0.6571      0.477      1.379      0.174      -0.301       1.615\n",
       "edu_pkb       -1.2147      1.235     -0.983      0.330      -3.698       1.269\n",
       "trans_pkb     -0.1482      0.124     -1.200      0.236      -0.397       0.100\n",
       "==============================================================================\n",
       "Omnibus:                        0.869   Durbin-Watson:                   0.765\n",
       "Prob(Omnibus):                  0.648   Jarque-Bera (JB):                0.583\n",
       "Skew:                          -0.252   Prob(JB):                        0.747\n",
       "Kurtosis:                       3.004   Cond. No.                         741.\n",
       "==============================================================================\n",
       "\n",
       "Notes:\n",
       "[1] Standard Errors assume that the covariance matrix of the errors is correctly specified.\n",
       "\"\"\""
      ]
     },
     "execution_count": 12,
     "metadata": {},
     "output_type": "execute_result"
    }
   ],
   "source": [
    "#model 1\n",
    "m2 = smf.ols(formula = 'gdim ~ palma + ln_pkb_pc + priv_pkb + bezrobocie + edu_pkb + trans_pkb', data = df).fit()\n",
    "m2.summary()"
   ]
  },
  {
   "cell_type": "code",
   "execution_count": null,
   "id": "01afb91f-48b4-41d4-9db1-3ff94f86d28b",
   "metadata": {},
   "outputs": [],
   "source": [
    "hip1 = '(gini = 0),(bezrobocie=0),(pkb_pc = 0),(edu_pkb = 0),(trans_pkb = 0)' #H0 o nieistotności odrzuconych zmiennych"
   ]
  },
  {
   "cell_type": "code",
   "execution_count": null,
   "id": "01659dd7-02b1-48d5-b1f8-f582747ae9d8",
   "metadata": {},
   "outputs": [],
   "source": [
    "m1.f_test(hip1) #test"
   ]
  },
  {
   "cell_type": "code",
   "execution_count": null,
   "id": "c87c7d4c-6659-40ca-89a2-4137d7e80bc0",
   "metadata": {},
   "outputs": [],
   "source": [
    "#pvalue > 0.05 => nie ma podstaw do odrzucenia H0"
   ]
  },
  {
   "cell_type": "code",
   "execution_count": 13,
   "id": "10fc3280-6ac5-4a78-81c8-26d2f299ebc8",
   "metadata": {},
   "outputs": [
    {
     "data": {
      "text/html": [
       "<table class=\"simpletable\">\n",
       "<caption>OLS Regression Results</caption>\n",
       "<tr>\n",
       "  <th>Dep. Variable:</th>          <td>gdim</td>       <th>  R-squared:         </th> <td>   0.335</td>\n",
       "</tr>\n",
       "<tr>\n",
       "  <th>Model:</th>                   <td>OLS</td>       <th>  Adj. R-squared:    </th> <td>   0.308</td>\n",
       "</tr>\n",
       "<tr>\n",
       "  <th>Method:</th>             <td>Least Squares</td>  <th>  F-statistic:       </th> <td>   12.74</td>\n",
       "</tr>\n",
       "<tr>\n",
       "  <th>Date:</th>             <td>Fri, 02 Jun 2023</td> <th>  Prob (F-statistic):</th> <td>7.86e-07</td>\n",
       "</tr>\n",
       "<tr>\n",
       "  <th>Time:</th>                 <td>15:54:09</td>     <th>  Log-Likelihood:    </th> <td> -321.77</td>\n",
       "</tr>\n",
       "<tr>\n",
       "  <th>No. Observations:</th>      <td>    80</td>      <th>  AIC:               </th> <td>   651.5</td>\n",
       "</tr>\n",
       "<tr>\n",
       "  <th>Df Residuals:</th>          <td>    76</td>      <th>  BIC:               </th> <td>   661.1</td>\n",
       "</tr>\n",
       "<tr>\n",
       "  <th>Df Model:</th>              <td>     3</td>      <th>                     </th>     <td> </td>   \n",
       "</tr>\n",
       "<tr>\n",
       "  <th>Covariance Type:</th>      <td>nonrobust</td>    <th>                     </th>     <td> </td>   \n",
       "</tr>\n",
       "</table>\n",
       "<table class=\"simpletable\">\n",
       "<tr>\n",
       "      <td></td>         <th>coef</th>     <th>std err</th>      <th>t</th>      <th>P>|t|</th>  <th>[0.025</th>    <th>0.975]</th>  \n",
       "</tr>\n",
       "<tr>\n",
       "  <th>Intercept</th> <td>   21.0277</td> <td>   10.516</td> <td>    2.000</td> <td> 0.049</td> <td>    0.084</td> <td>   41.971</td>\n",
       "</tr>\n",
       "<tr>\n",
       "  <th>palma</th>     <td>    1.4228</td> <td>    0.441</td> <td>    3.226</td> <td> 0.002</td> <td>    0.544</td> <td>    2.301</td>\n",
       "</tr>\n",
       "<tr>\n",
       "  <th>ln_pkb_pc</th> <td>    2.8798</td> <td>    1.409</td> <td>    2.044</td> <td> 0.044</td> <td>    0.074</td> <td>    5.686</td>\n",
       "</tr>\n",
       "<tr>\n",
       "  <th>priv_pkb</th>  <td>    0.1323</td> <td>    0.052</td> <td>    2.556</td> <td> 0.013</td> <td>    0.029</td> <td>    0.235</td>\n",
       "</tr>\n",
       "</table>\n",
       "<table class=\"simpletable\">\n",
       "<tr>\n",
       "  <th>Omnibus:</th>       <td> 0.291</td> <th>  Durbin-Watson:     </th> <td>   0.725</td>\n",
       "</tr>\n",
       "<tr>\n",
       "  <th>Prob(Omnibus):</th> <td> 0.865</td> <th>  Jarque-Bera (JB):  </th> <td>   0.464</td>\n",
       "</tr>\n",
       "<tr>\n",
       "  <th>Skew:</th>          <td>-0.095</td> <th>  Prob(JB):          </th> <td>   0.793</td>\n",
       "</tr>\n",
       "<tr>\n",
       "  <th>Kurtosis:</th>      <td> 2.679</td> <th>  Cond. No.          </th> <td>    497.</td>\n",
       "</tr>\n",
       "</table><br/><br/>Notes:<br/>[1] Standard Errors assume that the covariance matrix of the errors is correctly specified."
      ],
      "text/plain": [
       "<class 'statsmodels.iolib.summary.Summary'>\n",
       "\"\"\"\n",
       "                            OLS Regression Results                            \n",
       "==============================================================================\n",
       "Dep. Variable:                   gdim   R-squared:                       0.335\n",
       "Model:                            OLS   Adj. R-squared:                  0.308\n",
       "Method:                 Least Squares   F-statistic:                     12.74\n",
       "Date:                Fri, 02 Jun 2023   Prob (F-statistic):           7.86e-07\n",
       "Time:                        15:54:09   Log-Likelihood:                -321.77\n",
       "No. Observations:                  80   AIC:                             651.5\n",
       "Df Residuals:                      76   BIC:                             661.1\n",
       "Df Model:                           3                                         \n",
       "Covariance Type:            nonrobust                                         \n",
       "==============================================================================\n",
       "                 coef    std err          t      P>|t|      [0.025      0.975]\n",
       "------------------------------------------------------------------------------\n",
       "Intercept     21.0277     10.516      2.000      0.049       0.084      41.971\n",
       "palma          1.4228      0.441      3.226      0.002       0.544       2.301\n",
       "ln_pkb_pc      2.8798      1.409      2.044      0.044       0.074       5.686\n",
       "priv_pkb       0.1323      0.052      2.556      0.013       0.029       0.235\n",
       "==============================================================================\n",
       "Omnibus:                        0.291   Durbin-Watson:                   0.725\n",
       "Prob(Omnibus):                  0.865   Jarque-Bera (JB):                0.464\n",
       "Skew:                          -0.095   Prob(JB):                        0.793\n",
       "Kurtosis:                       2.679   Cond. No.                         497.\n",
       "==============================================================================\n",
       "\n",
       "Notes:\n",
       "[1] Standard Errors assume that the covariance matrix of the errors is correctly specified.\n",
       "\"\"\""
      ]
     },
     "execution_count": 13,
     "metadata": {},
     "output_type": "execute_result"
    }
   ],
   "source": [
    "#model 1\n",
    "m3 = smf.ols(formula = 'gdim ~ palma + ln_pkb_pc + priv_pkb', data = df).fit()\n",
    "m3.summary()"
   ]
  },
  {
   "cell_type": "code",
   "execution_count": 28,
   "id": "d0048ca9",
   "metadata": {},
   "outputs": [
    {
     "ename": "SyntaxError",
     "evalue": "invalid syntax (1786580017.py, line 2)",
     "output_type": "error",
     "traceback": [
      "\u001b[1;36m  File \u001b[1;32m\"C:\\Users\\User\\AppData\\Local\\Temp\\ipykernel_20180\\1786580017.py\"\u001b[1;36m, line \u001b[1;32m2\u001b[0m\n\u001b[1;33m    with open('nazwapliku.html’, 'w') as f:\u001b[0m\n\u001b[1;37m                                  ^\u001b[0m\n\u001b[1;31mSyntaxError\u001b[0m\u001b[1;31m:\u001b[0m invalid syntax\n"
     ]
    }
   ],
   "source": [
    "stargazer1=Stargazer([m1, m2, m3])\n",
    "with open('nazwapliku.html’, 'w') as f:\n",
    "f.write(st.render_html())"
   ]
  },
  {
   "cell_type": "code",
   "execution_count": 18,
   "id": "8a01d3be-bc24-4872-9363-e6c1c60e1b58",
   "metadata": {},
   "outputs": [
    {
     "data": {
      "text/html": [
       "<table class=\"simpletable\">\n",
       "<caption>OLS Regression Results</caption>\n",
       "<tr>\n",
       "  <th>Dep. Variable:</th>          <td>gdim</td>       <th>  R-squared:         </th> <td>   0.559</td>\n",
       "</tr>\n",
       "<tr>\n",
       "  <th>Model:</th>                   <td>OLS</td>       <th>  Adj. R-squared:    </th> <td>   0.402</td>\n",
       "</tr>\n",
       "<tr>\n",
       "  <th>Method:</th>             <td>Least Squares</td>  <th>  F-statistic:       </th> <td>   3.553</td>\n",
       "</tr>\n",
       "<tr>\n",
       "  <th>Date:</th>             <td>Fri, 02 Jun 2023</td> <th>  Prob (F-statistic):</th>  <td>0.00389</td>\n",
       "</tr>\n",
       "<tr>\n",
       "  <th>Time:</th>                 <td>15:58:27</td>     <th>  Log-Likelihood:    </th> <td> -144.07</td>\n",
       "</tr>\n",
       "<tr>\n",
       "  <th>No. Observations:</th>      <td>    39</td>      <th>  AIC:               </th> <td>   310.1</td>\n",
       "</tr>\n",
       "<tr>\n",
       "  <th>Df Residuals:</th>          <td>    28</td>      <th>  BIC:               </th> <td>   328.4</td>\n",
       "</tr>\n",
       "<tr>\n",
       "  <th>Df Model:</th>              <td>    10</td>      <th>                     </th>     <td> </td>   \n",
       "</tr>\n",
       "<tr>\n",
       "  <th>Covariance Type:</th>      <td>nonrobust</td>    <th>                     </th>     <td> </td>   \n",
       "</tr>\n",
       "</table>\n",
       "<table class=\"simpletable\">\n",
       "<tr>\n",
       "          <td></td>            <th>coef</th>     <th>std err</th>      <th>t</th>      <th>P>|t|</th>  <th>[0.025</th>    <th>0.975]</th>  \n",
       "</tr>\n",
       "<tr>\n",
       "  <th>Intercept</th>        <td>   64.5343</td> <td>   31.448</td> <td>    2.052</td> <td> 0.050</td> <td>    0.117</td> <td>  128.952</td>\n",
       "</tr>\n",
       "<tr>\n",
       "  <th>gini</th>             <td>   -0.2857</td> <td>    0.617</td> <td>   -0.463</td> <td> 0.647</td> <td>   -1.550</td> <td>    0.979</td>\n",
       "</tr>\n",
       "<tr>\n",
       "  <th>palma</th>            <td>    1.4348</td> <td>    1.209</td> <td>    1.186</td> <td> 0.245</td> <td>   -1.042</td> <td>    3.912</td>\n",
       "</tr>\n",
       "<tr>\n",
       "  <th>pkb_pc</th>           <td>    0.1645</td> <td>    3.002</td> <td>    0.055</td> <td> 0.957</td> <td>   -5.984</td> <td>    6.313</td>\n",
       "</tr>\n",
       "<tr>\n",
       "  <th>ln_pkb_pc</th>        <td>   -1.7597</td> <td>    2.958</td> <td>   -0.595</td> <td> 0.557</td> <td>   -7.819</td> <td>    4.300</td>\n",
       "</tr>\n",
       "<tr>\n",
       "  <th>priv_pkb</th>         <td>    0.3122</td> <td>    0.084</td> <td>    3.699</td> <td> 0.001</td> <td>    0.139</td> <td>    0.485</td>\n",
       "</tr>\n",
       "<tr>\n",
       "  <th>bezrobocie</th>       <td>    1.4879</td> <td>    0.638</td> <td>    2.333</td> <td> 0.027</td> <td>    0.181</td> <td>    2.794</td>\n",
       "</tr>\n",
       "<tr>\n",
       "  <th>edu_pkb_pc_podst</th> <td>   -0.5919</td> <td>    0.289</td> <td>   -2.048</td> <td> 0.050</td> <td>   -1.184</td> <td>    0.000</td>\n",
       "</tr>\n",
       "<tr>\n",
       "  <th>edu_pkb_pc_sr</th>    <td>   -0.2619</td> <td>    0.397</td> <td>   -0.660</td> <td> 0.515</td> <td>   -1.075</td> <td>    0.551</td>\n",
       "</tr>\n",
       "<tr>\n",
       "  <th>edu_pkb_pc_wyz</th>   <td>   -0.0051</td> <td>    0.029</td> <td>   -0.176</td> <td> 0.862</td> <td>   -0.065</td> <td>    0.054</td>\n",
       "</tr>\n",
       "<tr>\n",
       "  <th>trans_pkb</th>        <td>    0.0316</td> <td>    0.154</td> <td>    0.206</td> <td> 0.838</td> <td>   -0.283</td> <td>    0.346</td>\n",
       "</tr>\n",
       "</table>\n",
       "<table class=\"simpletable\">\n",
       "<tr>\n",
       "  <th>Omnibus:</th>       <td> 5.016</td> <th>  Durbin-Watson:     </th> <td>   1.192</td>\n",
       "</tr>\n",
       "<tr>\n",
       "  <th>Prob(Omnibus):</th> <td> 0.081</td> <th>  Jarque-Bera (JB):  </th> <td>   2.806</td>\n",
       "</tr>\n",
       "<tr>\n",
       "  <th>Skew:</th>          <td>-0.432</td> <th>  Prob(JB):          </th> <td>   0.246</td>\n",
       "</tr>\n",
       "<tr>\n",
       "  <th>Kurtosis:</th>      <td> 2.010</td> <th>  Cond. No.          </th> <td>2.83e+03</td>\n",
       "</tr>\n",
       "</table><br/><br/>Notes:<br/>[1] Standard Errors assume that the covariance matrix of the errors is correctly specified.<br/>[2] The condition number is large, 2.83e+03. This might indicate that there are<br/>strong multicollinearity or other numerical problems."
      ],
      "text/plain": [
       "<class 'statsmodels.iolib.summary.Summary'>\n",
       "\"\"\"\n",
       "                            OLS Regression Results                            \n",
       "==============================================================================\n",
       "Dep. Variable:                   gdim   R-squared:                       0.559\n",
       "Model:                            OLS   Adj. R-squared:                  0.402\n",
       "Method:                 Least Squares   F-statistic:                     3.553\n",
       "Date:                Fri, 02 Jun 2023   Prob (F-statistic):            0.00389\n",
       "Time:                        15:58:27   Log-Likelihood:                -144.07\n",
       "No. Observations:                  39   AIC:                             310.1\n",
       "Df Residuals:                      28   BIC:                             328.4\n",
       "Df Model:                          10                                         \n",
       "Covariance Type:            nonrobust                                         \n",
       "====================================================================================\n",
       "                       coef    std err          t      P>|t|      [0.025      0.975]\n",
       "------------------------------------------------------------------------------------\n",
       "Intercept           64.5343     31.448      2.052      0.050       0.117     128.952\n",
       "gini                -0.2857      0.617     -0.463      0.647      -1.550       0.979\n",
       "palma                1.4348      1.209      1.186      0.245      -1.042       3.912\n",
       "pkb_pc               0.1645      3.002      0.055      0.957      -5.984       6.313\n",
       "ln_pkb_pc           -1.7597      2.958     -0.595      0.557      -7.819       4.300\n",
       "priv_pkb             0.3122      0.084      3.699      0.001       0.139       0.485\n",
       "bezrobocie           1.4879      0.638      2.333      0.027       0.181       2.794\n",
       "edu_pkb_pc_podst    -0.5919      0.289     -2.048      0.050      -1.184       0.000\n",
       "edu_pkb_pc_sr       -0.2619      0.397     -0.660      0.515      -1.075       0.551\n",
       "edu_pkb_pc_wyz      -0.0051      0.029     -0.176      0.862      -0.065       0.054\n",
       "trans_pkb            0.0316      0.154      0.206      0.838      -0.283       0.346\n",
       "==============================================================================\n",
       "Omnibus:                        5.016   Durbin-Watson:                   1.192\n",
       "Prob(Omnibus):                  0.081   Jarque-Bera (JB):                2.806\n",
       "Skew:                          -0.432   Prob(JB):                        0.246\n",
       "Kurtosis:                       2.010   Cond. No.                     2.83e+03\n",
       "==============================================================================\n",
       "\n",
       "Notes:\n",
       "[1] Standard Errors assume that the covariance matrix of the errors is correctly specified.\n",
       "[2] The condition number is large, 2.83e+03. This might indicate that there are\n",
       "strong multicollinearity or other numerical problems.\n",
       "\"\"\""
      ]
     },
     "execution_count": 18,
     "metadata": {},
     "output_type": "execute_result"
    }
   ],
   "source": [
    "#model 1\n",
    "m4 = smf.ols(formula = 'gdim ~ gini + palma + pkb_pc + ln_pkb_pc + priv_pkb + bezrobocie + edu_pkb_pc_podst + edu_pkb_pc_sr + edu_pkb_pc_wyz + trans_pkb', data = df).fit()\n",
    "m4.summary()"
   ]
  },
  {
   "cell_type": "code",
   "execution_count": 19,
   "id": "dda20c49",
   "metadata": {},
   "outputs": [
    {
     "data": {
      "text/html": [
       "<table class=\"simpletable\">\n",
       "<caption>OLS Regression Results</caption>\n",
       "<tr>\n",
       "  <th>Dep. Variable:</th>          <td>gdim</td>       <th>  R-squared:         </th> <td>   0.517</td>\n",
       "</tr>\n",
       "<tr>\n",
       "  <th>Model:</th>                   <td>OLS</td>       <th>  Adj. R-squared:    </th> <td>   0.435</td>\n",
       "</tr>\n",
       "<tr>\n",
       "  <th>Method:</th>             <td>Least Squares</td>  <th>  F-statistic:       </th> <td>   6.292</td>\n",
       "</tr>\n",
       "<tr>\n",
       "  <th>Date:</th>             <td>Fri, 02 Jun 2023</td> <th>  Prob (F-statistic):</th> <td>1.59e-05</td>\n",
       "</tr>\n",
       "<tr>\n",
       "  <th>Time:</th>                 <td>15:58:31</td>     <th>  Log-Likelihood:    </th> <td> -214.30</td>\n",
       "</tr>\n",
       "<tr>\n",
       "  <th>No. Observations:</th>      <td>    56</td>      <th>  AIC:               </th> <td>   446.6</td>\n",
       "</tr>\n",
       "<tr>\n",
       "  <th>Df Residuals:</th>          <td>    47</td>      <th>  BIC:               </th> <td>   464.8</td>\n",
       "</tr>\n",
       "<tr>\n",
       "  <th>Df Model:</th>              <td>     8</td>      <th>                     </th>     <td> </td>   \n",
       "</tr>\n",
       "<tr>\n",
       "  <th>Covariance Type:</th>      <td>nonrobust</td>    <th>                     </th>     <td> </td>   \n",
       "</tr>\n",
       "</table>\n",
       "<table class=\"simpletable\">\n",
       "<tr>\n",
       "          <td></td>            <th>coef</th>     <th>std err</th>      <th>t</th>      <th>P>|t|</th>  <th>[0.025</th>    <th>0.975]</th>  \n",
       "</tr>\n",
       "<tr>\n",
       "  <th>Intercept</th>        <td>   20.2217</td> <td>   21.412</td> <td>    0.944</td> <td> 0.350</td> <td>  -22.855</td> <td>   63.298</td>\n",
       "</tr>\n",
       "<tr>\n",
       "  <th>gini</th>             <td>    0.1739</td> <td>    0.388</td> <td>    0.448</td> <td> 0.656</td> <td>   -0.607</td> <td>    0.955</td>\n",
       "</tr>\n",
       "<tr>\n",
       "  <th>palma</th>            <td>    1.3843</td> <td>    0.791</td> <td>    1.751</td> <td> 0.087</td> <td>   -0.206</td> <td>    2.975</td>\n",
       "</tr>\n",
       "<tr>\n",
       "  <th>pkb_pc</th>           <td>    1.3256</td> <td>    2.788</td> <td>    0.476</td> <td> 0.637</td> <td>   -4.282</td> <td>    6.934</td>\n",
       "</tr>\n",
       "<tr>\n",
       "  <th>ln_pkb_pc</th>        <td>    2.3656</td> <td>    1.728</td> <td>    1.369</td> <td> 0.177</td> <td>   -1.110</td> <td>    5.841</td>\n",
       "</tr>\n",
       "<tr>\n",
       "  <th>priv_pkb</th>         <td>    0.1957</td> <td>    0.061</td> <td>    3.185</td> <td> 0.003</td> <td>    0.072</td> <td>    0.319</td>\n",
       "</tr>\n",
       "<tr>\n",
       "  <th>bezrobocie</th>       <td>    0.2861</td> <td>    0.383</td> <td>    0.748</td> <td> 0.458</td> <td>   -0.483</td> <td>    1.056</td>\n",
       "</tr>\n",
       "<tr>\n",
       "  <th>edu_pkb_pc_podst</th> <td>   -0.1430</td> <td>    0.247</td> <td>   -0.580</td> <td> 0.565</td> <td>   -0.639</td> <td>    0.353</td>\n",
       "</tr>\n",
       "<tr>\n",
       "  <th>edu_pkb_pc_sr</th>    <td>   -0.3270</td> <td>    0.181</td> <td>   -1.806</td> <td> 0.077</td> <td>   -0.691</td> <td>    0.037</td>\n",
       "</tr>\n",
       "</table>\n",
       "<table class=\"simpletable\">\n",
       "<tr>\n",
       "  <th>Omnibus:</th>       <td> 5.456</td> <th>  Durbin-Watson:     </th> <td>   1.188</td>\n",
       "</tr>\n",
       "<tr>\n",
       "  <th>Prob(Omnibus):</th> <td> 0.065</td> <th>  Jarque-Bera (JB):  </th> <td>   3.170</td>\n",
       "</tr>\n",
       "<tr>\n",
       "  <th>Skew:</th>          <td>-0.377</td> <th>  Prob(JB):          </th> <td>   0.205</td>\n",
       "</tr>\n",
       "<tr>\n",
       "  <th>Kurtosis:</th>      <td> 2.111</td> <th>  Cond. No.          </th> <td>1.12e+03</td>\n",
       "</tr>\n",
       "</table><br/><br/>Notes:<br/>[1] Standard Errors assume that the covariance matrix of the errors is correctly specified.<br/>[2] The condition number is large, 1.12e+03. This might indicate that there are<br/>strong multicollinearity or other numerical problems."
      ],
      "text/plain": [
       "<class 'statsmodels.iolib.summary.Summary'>\n",
       "\"\"\"\n",
       "                            OLS Regression Results                            \n",
       "==============================================================================\n",
       "Dep. Variable:                   gdim   R-squared:                       0.517\n",
       "Model:                            OLS   Adj. R-squared:                  0.435\n",
       "Method:                 Least Squares   F-statistic:                     6.292\n",
       "Date:                Fri, 02 Jun 2023   Prob (F-statistic):           1.59e-05\n",
       "Time:                        15:58:31   Log-Likelihood:                -214.30\n",
       "No. Observations:                  56   AIC:                             446.6\n",
       "Df Residuals:                      47   BIC:                             464.8\n",
       "Df Model:                           8                                         \n",
       "Covariance Type:            nonrobust                                         \n",
       "====================================================================================\n",
       "                       coef    std err          t      P>|t|      [0.025      0.975]\n",
       "------------------------------------------------------------------------------------\n",
       "Intercept           20.2217     21.412      0.944      0.350     -22.855      63.298\n",
       "gini                 0.1739      0.388      0.448      0.656      -0.607       0.955\n",
       "palma                1.3843      0.791      1.751      0.087      -0.206       2.975\n",
       "pkb_pc               1.3256      2.788      0.476      0.637      -4.282       6.934\n",
       "ln_pkb_pc            2.3656      1.728      1.369      0.177      -1.110       5.841\n",
       "priv_pkb             0.1957      0.061      3.185      0.003       0.072       0.319\n",
       "bezrobocie           0.2861      0.383      0.748      0.458      -0.483       1.056\n",
       "edu_pkb_pc_podst    -0.1430      0.247     -0.580      0.565      -0.639       0.353\n",
       "edu_pkb_pc_sr       -0.3270      0.181     -1.806      0.077      -0.691       0.037\n",
       "==============================================================================\n",
       "Omnibus:                        5.456   Durbin-Watson:                   1.188\n",
       "Prob(Omnibus):                  0.065   Jarque-Bera (JB):                3.170\n",
       "Skew:                          -0.377   Prob(JB):                        0.205\n",
       "Kurtosis:                       2.111   Cond. No.                     1.12e+03\n",
       "==============================================================================\n",
       "\n",
       "Notes:\n",
       "[1] Standard Errors assume that the covariance matrix of the errors is correctly specified.\n",
       "[2] The condition number is large, 1.12e+03. This might indicate that there are\n",
       "strong multicollinearity or other numerical problems.\n",
       "\"\"\""
      ]
     },
     "execution_count": 19,
     "metadata": {},
     "output_type": "execute_result"
    }
   ],
   "source": [
    "#model 1\n",
    "m5 = smf.ols(formula = 'gdim ~ gini + palma + pkb_pc + ln_pkb_pc + priv_pkb + bezrobocie + edu_pkb_pc_podst + edu_pkb_pc_sr', data = df).fit()\n",
    "m5.summary()"
   ]
  },
  {
   "cell_type": "code",
   "execution_count": 20,
   "id": "30e1569b",
   "metadata": {},
   "outputs": [
    {
     "data": {
      "text/html": [
       "<table class=\"simpletable\">\n",
       "<caption>OLS Regression Results</caption>\n",
       "<tr>\n",
       "  <th>Dep. Variable:</th>          <td>gdim</td>       <th>  R-squared:         </th> <td>   0.502</td>\n",
       "</tr>\n",
       "<tr>\n",
       "  <th>Model:</th>                   <td>OLS</td>       <th>  Adj. R-squared:    </th> <td>   0.443</td>\n",
       "</tr>\n",
       "<tr>\n",
       "  <th>Method:</th>             <td>Least Squares</td>  <th>  F-statistic:       </th> <td>   8.413</td>\n",
       "</tr>\n",
       "<tr>\n",
       "  <th>Date:</th>             <td>Fri, 02 Jun 2023</td> <th>  Prob (F-statistic):</th> <td>2.53e-06</td>\n",
       "</tr>\n",
       "<tr>\n",
       "  <th>Time:</th>                 <td>15:58:31</td>     <th>  Log-Likelihood:    </th> <td> -218.51</td>\n",
       "</tr>\n",
       "<tr>\n",
       "  <th>No. Observations:</th>      <td>    57</td>      <th>  AIC:               </th> <td>   451.0</td>\n",
       "</tr>\n",
       "<tr>\n",
       "  <th>Df Residuals:</th>          <td>    50</td>      <th>  BIC:               </th> <td>   465.3</td>\n",
       "</tr>\n",
       "<tr>\n",
       "  <th>Df Model:</th>              <td>     6</td>      <th>                     </th>     <td> </td>   \n",
       "</tr>\n",
       "<tr>\n",
       "  <th>Covariance Type:</th>      <td>nonrobust</td>    <th>                     </th>     <td> </td>   \n",
       "</tr>\n",
       "</table>\n",
       "<table class=\"simpletable\">\n",
       "<tr>\n",
       "          <td></td>            <th>coef</th>     <th>std err</th>      <th>t</th>      <th>P>|t|</th>  <th>[0.025</th>    <th>0.975]</th>  \n",
       "</tr>\n",
       "<tr>\n",
       "  <th>Intercept</th>        <td>   32.5724</td> <td>   11.007</td> <td>    2.959</td> <td> 0.005</td> <td>   10.463</td> <td>   54.682</td>\n",
       "</tr>\n",
       "<tr>\n",
       "  <th>palma</th>            <td>    1.5896</td> <td>    0.443</td> <td>    3.587</td> <td> 0.001</td> <td>    0.699</td> <td>    2.480</td>\n",
       "</tr>\n",
       "<tr>\n",
       "  <th>ln_pkb_pc</th>        <td>    1.8929</td> <td>    1.476</td> <td>    1.282</td> <td> 0.206</td> <td>   -1.073</td> <td>    4.858</td>\n",
       "</tr>\n",
       "<tr>\n",
       "  <th>priv_pkb</th>         <td>    0.1983</td> <td>    0.056</td> <td>    3.572</td> <td> 0.001</td> <td>    0.087</td> <td>    0.310</td>\n",
       "</tr>\n",
       "<tr>\n",
       "  <th>bezrobocie</th>       <td>    0.3092</td> <td>    0.339</td> <td>    0.912</td> <td> 0.366</td> <td>   -0.372</td> <td>    0.990</td>\n",
       "</tr>\n",
       "<tr>\n",
       "  <th>edu_pkb_pc_podst</th> <td>   -0.1808</td> <td>    0.239</td> <td>   -0.756</td> <td> 0.453</td> <td>   -0.661</td> <td>    0.300</td>\n",
       "</tr>\n",
       "<tr>\n",
       "  <th>edu_pkb_pc_sr</th>    <td>   -0.3655</td> <td>    0.174</td> <td>   -2.096</td> <td> 0.041</td> <td>   -0.716</td> <td>   -0.015</td>\n",
       "</tr>\n",
       "</table>\n",
       "<table class=\"simpletable\">\n",
       "<tr>\n",
       "  <th>Omnibus:</th>       <td> 5.046</td> <th>  Durbin-Watson:     </th> <td>   1.096</td>\n",
       "</tr>\n",
       "<tr>\n",
       "  <th>Prob(Omnibus):</th> <td> 0.080</td> <th>  Jarque-Bera (JB):  </th> <td>   3.225</td>\n",
       "</tr>\n",
       "<tr>\n",
       "  <th>Skew:</th>          <td>-0.402</td> <th>  Prob(JB):          </th> <td>   0.199</td>\n",
       "</tr>\n",
       "<tr>\n",
       "  <th>Kurtosis:</th>      <td> 2.157</td> <th>  Cond. No.          </th> <td>    543.</td>\n",
       "</tr>\n",
       "</table><br/><br/>Notes:<br/>[1] Standard Errors assume that the covariance matrix of the errors is correctly specified."
      ],
      "text/plain": [
       "<class 'statsmodels.iolib.summary.Summary'>\n",
       "\"\"\"\n",
       "                            OLS Regression Results                            \n",
       "==============================================================================\n",
       "Dep. Variable:                   gdim   R-squared:                       0.502\n",
       "Model:                            OLS   Adj. R-squared:                  0.443\n",
       "Method:                 Least Squares   F-statistic:                     8.413\n",
       "Date:                Fri, 02 Jun 2023   Prob (F-statistic):           2.53e-06\n",
       "Time:                        15:58:31   Log-Likelihood:                -218.51\n",
       "No. Observations:                  57   AIC:                             451.0\n",
       "Df Residuals:                      50   BIC:                             465.3\n",
       "Df Model:                           6                                         \n",
       "Covariance Type:            nonrobust                                         \n",
       "====================================================================================\n",
       "                       coef    std err          t      P>|t|      [0.025      0.975]\n",
       "------------------------------------------------------------------------------------\n",
       "Intercept           32.5724     11.007      2.959      0.005      10.463      54.682\n",
       "palma                1.5896      0.443      3.587      0.001       0.699       2.480\n",
       "ln_pkb_pc            1.8929      1.476      1.282      0.206      -1.073       4.858\n",
       "priv_pkb             0.1983      0.056      3.572      0.001       0.087       0.310\n",
       "bezrobocie           0.3092      0.339      0.912      0.366      -0.372       0.990\n",
       "edu_pkb_pc_podst    -0.1808      0.239     -0.756      0.453      -0.661       0.300\n",
       "edu_pkb_pc_sr       -0.3655      0.174     -2.096      0.041      -0.716      -0.015\n",
       "==============================================================================\n",
       "Omnibus:                        5.046   Durbin-Watson:                   1.096\n",
       "Prob(Omnibus):                  0.080   Jarque-Bera (JB):                3.225\n",
       "Skew:                          -0.402   Prob(JB):                        0.199\n",
       "Kurtosis:                       2.157   Cond. No.                         543.\n",
       "==============================================================================\n",
       "\n",
       "Notes:\n",
       "[1] Standard Errors assume that the covariance matrix of the errors is correctly specified.\n",
       "\"\"\""
      ]
     },
     "execution_count": 20,
     "metadata": {},
     "output_type": "execute_result"
    }
   ],
   "source": [
    "#model 1\n",
    "m6 = smf.ols(formula = 'gdim ~ palma + ln_pkb_pc + priv_pkb + bezrobocie + edu_pkb_pc_podst + edu_pkb_pc_sr', data = df).fit()\n",
    "m6.summary()"
   ]
  },
  {
   "cell_type": "code",
   "execution_count": 21,
   "id": "c5f12ded",
   "metadata": {},
   "outputs": [
    {
     "data": {
      "text/html": [
       "<table class=\"simpletable\">\n",
       "<caption>OLS Regression Results</caption>\n",
       "<tr>\n",
       "  <th>Dep. Variable:</th>          <td>gdim</td>       <th>  R-squared:         </th> <td>   0.486</td>\n",
       "</tr>\n",
       "<tr>\n",
       "  <th>Model:</th>                   <td>OLS</td>       <th>  Adj. R-squared:    </th> <td>   0.447</td>\n",
       "</tr>\n",
       "<tr>\n",
       "  <th>Method:</th>             <td>Least Squares</td>  <th>  F-statistic:       </th> <td>   12.53</td>\n",
       "</tr>\n",
       "<tr>\n",
       "  <th>Date:</th>             <td>Fri, 02 Jun 2023</td> <th>  Prob (F-statistic):</th> <td>3.03e-07</td>\n",
       "</tr>\n",
       "<tr>\n",
       "  <th>Time:</th>                 <td>15:58:32</td>     <th>  Log-Likelihood:    </th> <td> -223.19</td>\n",
       "</tr>\n",
       "<tr>\n",
       "  <th>No. Observations:</th>      <td>    58</td>      <th>  AIC:               </th> <td>   456.4</td>\n",
       "</tr>\n",
       "<tr>\n",
       "  <th>Df Residuals:</th>          <td>    53</td>      <th>  BIC:               </th> <td>   466.7</td>\n",
       "</tr>\n",
       "<tr>\n",
       "  <th>Df Model:</th>              <td>     4</td>      <th>                     </th>     <td> </td>   \n",
       "</tr>\n",
       "<tr>\n",
       "  <th>Covariance Type:</th>      <td>nonrobust</td>    <th>                     </th>     <td> </td>   \n",
       "</tr>\n",
       "</table>\n",
       "<table class=\"simpletable\">\n",
       "<tr>\n",
       "        <td></td>           <th>coef</th>     <th>std err</th>      <th>t</th>      <th>P>|t|</th>  <th>[0.025</th>    <th>0.975]</th>  \n",
       "</tr>\n",
       "<tr>\n",
       "  <th>Intercept</th>     <td>   30.9495</td> <td>   10.877</td> <td>    2.845</td> <td> 0.006</td> <td>    9.134</td> <td>   52.765</td>\n",
       "</tr>\n",
       "<tr>\n",
       "  <th>palma</th>         <td>    1.7387</td> <td>    0.411</td> <td>    4.229</td> <td> 0.000</td> <td>    0.914</td> <td>    2.563</td>\n",
       "</tr>\n",
       "<tr>\n",
       "  <th>ln_pkb_pc</th>     <td>    2.1071</td> <td>    1.395</td> <td>    1.511</td> <td> 0.137</td> <td>   -0.691</td> <td>    4.905</td>\n",
       "</tr>\n",
       "<tr>\n",
       "  <th>priv_pkb</th>      <td>    0.1882</td> <td>    0.053</td> <td>    3.528</td> <td> 0.001</td> <td>    0.081</td> <td>    0.295</td>\n",
       "</tr>\n",
       "<tr>\n",
       "  <th>edu_pkb_pc_sr</th> <td>   -0.3953</td> <td>    0.159</td> <td>   -2.489</td> <td> 0.016</td> <td>   -0.714</td> <td>   -0.077</td>\n",
       "</tr>\n",
       "</table>\n",
       "<table class=\"simpletable\">\n",
       "<tr>\n",
       "  <th>Omnibus:</th>       <td> 3.689</td> <th>  Durbin-Watson:     </th> <td>   1.025</td>\n",
       "</tr>\n",
       "<tr>\n",
       "  <th>Prob(Omnibus):</th> <td> 0.158</td> <th>  Jarque-Bera (JB):  </th> <td>   2.966</td>\n",
       "</tr>\n",
       "<tr>\n",
       "  <th>Skew:</th>          <td>-0.432</td> <th>  Prob(JB):          </th> <td>   0.227</td>\n",
       "</tr>\n",
       "<tr>\n",
       "  <th>Kurtosis:</th>      <td> 2.306</td> <th>  Cond. No.          </th> <td>    533.</td>\n",
       "</tr>\n",
       "</table><br/><br/>Notes:<br/>[1] Standard Errors assume that the covariance matrix of the errors is correctly specified."
      ],
      "text/plain": [
       "<class 'statsmodels.iolib.summary.Summary'>\n",
       "\"\"\"\n",
       "                            OLS Regression Results                            \n",
       "==============================================================================\n",
       "Dep. Variable:                   gdim   R-squared:                       0.486\n",
       "Model:                            OLS   Adj. R-squared:                  0.447\n",
       "Method:                 Least Squares   F-statistic:                     12.53\n",
       "Date:                Fri, 02 Jun 2023   Prob (F-statistic):           3.03e-07\n",
       "Time:                        15:58:32   Log-Likelihood:                -223.19\n",
       "No. Observations:                  58   AIC:                             456.4\n",
       "Df Residuals:                      53   BIC:                             466.7\n",
       "Df Model:                           4                                         \n",
       "Covariance Type:            nonrobust                                         \n",
       "=================================================================================\n",
       "                    coef    std err          t      P>|t|      [0.025      0.975]\n",
       "---------------------------------------------------------------------------------\n",
       "Intercept        30.9495     10.877      2.845      0.006       9.134      52.765\n",
       "palma             1.7387      0.411      4.229      0.000       0.914       2.563\n",
       "ln_pkb_pc         2.1071      1.395      1.511      0.137      -0.691       4.905\n",
       "priv_pkb          0.1882      0.053      3.528      0.001       0.081       0.295\n",
       "edu_pkb_pc_sr    -0.3953      0.159     -2.489      0.016      -0.714      -0.077\n",
       "==============================================================================\n",
       "Omnibus:                        3.689   Durbin-Watson:                   1.025\n",
       "Prob(Omnibus):                  0.158   Jarque-Bera (JB):                2.966\n",
       "Skew:                          -0.432   Prob(JB):                        0.227\n",
       "Kurtosis:                       2.306   Cond. No.                         533.\n",
       "==============================================================================\n",
       "\n",
       "Notes:\n",
       "[1] Standard Errors assume that the covariance matrix of the errors is correctly specified.\n",
       "\"\"\""
      ]
     },
     "execution_count": 21,
     "metadata": {},
     "output_type": "execute_result"
    }
   ],
   "source": [
    "#model 1\n",
    "m7 = smf.ols(formula = 'gdim ~ palma + ln_pkb_pc + priv_pkb +edu_pkb_pc_sr', data = df).fit()\n",
    "m7.summary()"
   ]
  },
  {
   "cell_type": "code",
   "execution_count": 22,
   "id": "e6990202",
   "metadata": {},
   "outputs": [
    {
     "data": {
      "text/html": [
       "<table style=\"text-align:center\"><tr><td colspan=\"5\" style=\"border-bottom: 1px solid black\"></td></tr><tr><td style=\"text-align:left\"></td><td colspan=\"4\"><em>Dependent variable:gdim</em></td></tr><tr><td style=\"text-align:left\"></td><tr><td style=\"text-align:left\"></td><td>(1)</td><td>(2)</td><td>(3)</td><td>(4)</td></tr><tr><td colspan=\"5\" style=\"border-bottom: 1px solid black\"></td></tr><tr><td style=\"text-align:left\">Intercept</td><td>64.534<sup>**</sup></td><td>20.222<sup></sup></td><td>32.572<sup>***</sup></td><td>30.950<sup>***</sup></td></tr><tr><td style=\"text-align:left\"></td><td>(31.448)</td><td>(21.412)</td><td>(11.007)</td><td>(10.877)</td></tr><tr><td style=\"text-align:left\">bezrobocie</td><td>1.488<sup>**</sup></td><td>0.286<sup></sup></td><td>0.309<sup></sup></td><td></td></tr><tr><td style=\"text-align:left\"></td><td>(0.638)</td><td>(0.383)</td><td>(0.339)</td><td></td></tr><tr><td style=\"text-align:left\">edu_pkb_pc_podst</td><td>-0.592<sup>*</sup></td><td>-0.143<sup></sup></td><td>-0.181<sup></sup></td><td></td></tr><tr><td style=\"text-align:left\"></td><td>(0.289)</td><td>(0.247)</td><td>(0.239)</td><td></td></tr><tr><td style=\"text-align:left\">edu_pkb_pc_sr</td><td>-0.262<sup></sup></td><td>-0.327<sup>*</sup></td><td>-0.365<sup>**</sup></td><td>-0.395<sup>**</sup></td></tr><tr><td style=\"text-align:left\"></td><td>(0.397)</td><td>(0.181)</td><td>(0.174)</td><td>(0.159)</td></tr><tr><td style=\"text-align:left\">edu_pkb_pc_wyz</td><td>-0.005<sup></sup></td><td></td><td></td><td></td></tr><tr><td style=\"text-align:left\"></td><td>(0.029)</td><td></td><td></td><td></td></tr><tr><td style=\"text-align:left\">gini</td><td>-0.286<sup></sup></td><td>0.174<sup></sup></td><td></td><td></td></tr><tr><td style=\"text-align:left\"></td><td>(0.617)</td><td>(0.388)</td><td></td><td></td></tr><tr><td style=\"text-align:left\">ln_pkb_pc</td><td>-1.760<sup></sup></td><td>2.366<sup></sup></td><td>1.893<sup></sup></td><td>2.107<sup></sup></td></tr><tr><td style=\"text-align:left\"></td><td>(2.958)</td><td>(1.728)</td><td>(1.476)</td><td>(1.395)</td></tr><tr><td style=\"text-align:left\">palma</td><td>1.435<sup></sup></td><td>1.384<sup>*</sup></td><td>1.590<sup>***</sup></td><td>1.739<sup>***</sup></td></tr><tr><td style=\"text-align:left\"></td><td>(1.209)</td><td>(0.791)</td><td>(0.443)</td><td>(0.411)</td></tr><tr><td style=\"text-align:left\">pkb_pc</td><td>0.164<sup></sup></td><td>1.326<sup></sup></td><td></td><td></td></tr><tr><td style=\"text-align:left\"></td><td>(3.002)</td><td>(2.788)</td><td></td><td></td></tr><tr><td style=\"text-align:left\">priv_pkb</td><td>0.312<sup>***</sup></td><td>0.196<sup>***</sup></td><td>0.198<sup>***</sup></td><td>0.188<sup>***</sup></td></tr><tr><td style=\"text-align:left\"></td><td>(0.084)</td><td>(0.061)</td><td>(0.056)</td><td>(0.053)</td></tr><tr><td style=\"text-align:left\">trans_pkb</td><td>0.032<sup></sup></td><td></td><td></td><td></td></tr><tr><td style=\"text-align:left\"></td><td>(0.154)</td><td></td><td></td><td></td></tr><td colspan=\"5\" style=\"border-bottom: 1px solid black\"></td></tr><tr><td style=\"text-align: left\">Observations</td><td>39</td><td>56</td><td>57</td><td>58</td></tr><tr><td style=\"text-align: left\">R<sup>2</sup></td><td>0.559</td><td>0.517</td><td>0.502</td><td>0.486</td></tr><tr><td style=\"text-align: left\">Adjusted R<sup>2</sup></td><td>0.402</td><td>0.435</td><td>0.443</td><td>0.447</td></tr><tr><td style=\"text-align: left\">Residual Std. Error</td><td>11.481 (df=28)</td><td>12.128 (df=47)</td><td>11.943 (df=50)</td><td>11.872 (df=53)</td></tr><tr><td style=\"text-align: left\">F Statistic</td><td>3.553<sup>***</sup> (df=10; 28)</td><td>6.292<sup>***</sup> (df=8; 47)</td><td>8.413<sup>***</sup> (df=6; 50)</td><td>12.531<sup>***</sup> (df=4; 53)</td></tr><tr><td colspan=\"5\" style=\"border-bottom: 1px solid black\"></td></tr><tr><td style=\"text-align: left\">Note:</td>\n",
       " <td colspan=\"4\" style=\"text-align: right\">\n",
       "  <sup>*</sup>p&lt;0.1;\n",
       "  <sup>**</sup>p&lt;0.05;\n",
       "  <sup>***</sup>p&lt;0.01\n",
       " </td></tr></table>"
      ],
      "text/plain": [
       "<stargazer.stargazer.Stargazer at 0x20dfcb7fd60>"
      ]
     },
     "execution_count": 22,
     "metadata": {},
     "output_type": "execute_result"
    }
   ],
   "source": [
    "Stargazer([m4, m5, m6, m7])"
   ]
  },
  {
   "cell_type": "code",
   "execution_count": null,
   "id": "808ab1fd-8e8a-4ede-b0b7-049e7624dddd",
   "metadata": {},
   "outputs": [],
   "source": [
    "hip2 = '(gini = 0),(bezrobocie=0),(pkb_pc = 0),(edu_pkb_pc_wyz = 0),(trans_pkb = 0),(edu_pkb_pc_podst=0)' #H0 o nieistotności"
   ]
  },
  {
   "cell_type": "code",
   "execution_count": 25,
   "id": "a97f824e-2161-42ef-85ad-1f169cf1b12d",
   "metadata": {},
   "outputs": [
    {
     "data": {
      "text/plain": [
       "<class 'statsmodels.stats.contrast.ContrastResults'>\n",
       "<F test: F=1.2617536170748256, p=0.30637543576547416, df_denom=28, df_num=6>"
      ]
     },
     "execution_count": 25,
     "metadata": {},
     "output_type": "execute_result"
    }
   ],
   "source": [
    "m4.f_test(hip2) #F test"
   ]
  },
  {
   "cell_type": "code",
   "execution_count": null,
   "id": "ed428f04-cb5a-44f6-b016-a06dd02d7693",
   "metadata": {},
   "outputs": [],
   "source": [
    "#pvalue > 0.05 => nie ma podstaw do odrzucenia H0"
   ]
  },
  {
   "cell_type": "code",
   "execution_count": 50,
   "id": "24033ddd-baec-4c1d-851d-cd2afccd7705",
   "metadata": {},
   "outputs": [
    {
     "data": {
      "text/html": [
       "<table style=\"text-align:center\"><tr><td colspan=\"7\" style=\"border-bottom: 1px solid black\"></td></tr><tr><td style=\"text-align:left\"></td><td colspan=\"6\"><em>Dependent variable:gdmi_1</em></td></tr><tr><td style=\"text-align:left\"></td><tr><td style=\"text-align:left\"></td><td>(1)</td><td>(2)</td><td>(3)</td><td>(4)</td><td>(5)</td><td>(6)</td></tr><tr><td colspan=\"7\" style=\"border-bottom: 1px solid black\"></td></tr><tr><td style=\"text-align:left\">Intercept</td><td>26.351<sup></sup></td><td>24.778<sup></sup></td><td>21.028<sup>**</sup></td><td>64.534<sup>**</sup></td><td>32.572<sup>***</sup></td><td>30.950<sup>***</sup></td></tr><tr><td style=\"text-align:left\"></td><td>(24.128)</td><td>(15.008)</td><td>(10.516)</td><td>(31.448)</td><td>(11.007)</td><td>(10.877)</td></tr><tr><td style=\"text-align:left\">bezrobocie</td><td>0.840<sup></sup></td><td>0.657<sup></sup></td><td></td><td>1.488<sup>**</sup></td><td>0.309<sup></sup></td><td></td></tr><tr><td style=\"text-align:left\"></td><td>(0.527)</td><td>(0.477)</td><td></td><td>(0.638)</td><td>(0.339)</td><td></td></tr><tr><td style=\"text-align:left\">edu_pkb</td><td>-1.572<sup></sup></td><td>-1.215<sup></sup></td><td></td><td></td><td></td><td></td></tr><tr><td style=\"text-align:left\"></td><td>(1.304)</td><td>(1.235)</td><td></td><td></td><td></td><td></td></tr><tr><td style=\"text-align:left\">edu_pkb_pc_podst</td><td></td><td></td><td></td><td>-0.592<sup>*</sup></td><td>-0.181<sup></sup></td><td></td></tr><tr><td style=\"text-align:left\"></td><td></td><td></td><td></td><td>(0.289)</td><td>(0.239)</td><td></td></tr><tr><td style=\"text-align:left\">edu_pkb_pc_sr</td><td></td><td></td><td></td><td>-0.262<sup></sup></td><td>-0.365<sup>**</sup></td><td>-0.395<sup>**</sup></td></tr><tr><td style=\"text-align:left\"></td><td></td><td></td><td></td><td>(0.397)</td><td>(0.174)</td><td>(0.159)</td></tr><tr><td style=\"text-align:left\">edu_pkb_pc_wyz</td><td></td><td></td><td></td><td>-0.005<sup></sup></td><td></td><td></td></tr><tr><td style=\"text-align:left\"></td><td></td><td></td><td></td><td>(0.029)</td><td></td><td></td></tr><tr><td style=\"text-align:left\">gini_2</td><td>-0.174<sup></sup></td><td></td><td></td><td>-0.286<sup></sup></td><td></td><td></td></tr><tr><td style=\"text-align:left\"></td><td>(0.506)</td><td></td><td></td><td>(0.617)</td><td></td><td></td></tr><tr><td style=\"text-align:left\">ln_pkb_pc</td><td>2.481<sup></sup></td><td>3.122<sup></sup></td><td>2.880<sup>**</sup></td><td>-1.760<sup></sup></td><td>1.893<sup></sup></td><td>2.107<sup></sup></td></tr><tr><td style=\"text-align:left\"></td><td>(2.290)</td><td>(2.165)</td><td>(1.409)</td><td>(2.958)</td><td>(1.476)</td><td>(1.395)</td></tr><tr><td style=\"text-align:left\">palma</td><td>1.885<sup></sup></td><td>1.393<sup>**</sup></td><td>1.423<sup>***</sup></td><td>1.435<sup></sup></td><td>1.590<sup>***</sup></td><td>1.739<sup>***</sup></td></tr><tr><td style=\"text-align:left\"></td><td>(1.130)</td><td>(0.643)</td><td>(0.441)</td><td>(1.209)</td><td>(0.443)</td><td>(0.411)</td></tr><tr><td style=\"text-align:left\">pkb_pc</td><td>3.019<sup></sup></td><td></td><td></td><td>0.164<sup></sup></td><td></td><td></td></tr><tr><td style=\"text-align:left\"></td><td>(3.180)</td><td></td><td></td><td>(3.002)</td><td></td><td></td></tr><tr><td style=\"text-align:left\">priv_pkb</td><td>0.229<sup>***</sup></td><td>0.156<sup>**</sup></td><td>0.132<sup>**</sup></td><td>0.312<sup>***</sup></td><td>0.198<sup>***</sup></td><td>0.188<sup>***</sup></td></tr><tr><td style=\"text-align:left\"></td><td>(0.080)</td><td>(0.065)</td><td>(0.052)</td><td>(0.084)</td><td>(0.056)</td><td>(0.053)</td></tr><tr><td style=\"text-align:left\">trans_pkb</td><td>-0.142<sup></sup></td><td>-0.148<sup></sup></td><td></td><td>0.032<sup></sup></td><td></td><td></td></tr><tr><td style=\"text-align:left\"></td><td>(0.125)</td><td>(0.124)</td><td></td><td>(0.154)</td><td></td><td></td></tr><td colspan=\"7\" style=\"border-bottom: 1px solid black\"></td></tr><tr><td style=\"text-align: left\">Observations</td><td>53</td><td>55</td><td>80</td><td>39</td><td>57</td><td>58</td></tr><tr><td style=\"text-align: left\">R<sup>2</sup></td><td>0.417</td><td>0.357</td><td>0.335</td><td>0.559</td><td>0.502</td><td>0.486</td></tr><tr><td style=\"text-align: left\">Adjusted R<sup>2</sup></td><td>0.311</td><td>0.276</td><td>0.308</td><td>0.402</td><td>0.443</td><td>0.447</td></tr><tr><td style=\"text-align: left\">Residual Std. Error</td><td>13.418 (df=44)</td><td>13.496 (df=48)</td><td>13.857 (df=76)</td><td>11.481 (df=28)</td><td>11.943 (df=50)</td><td>11.872 (df=53)</td></tr><tr><td style=\"text-align: left\">F Statistic</td><td>3.928<sup>***</sup> (df=8; 44)</td><td>4.436<sup>***</sup> (df=6; 48)</td><td>12.741<sup>***</sup> (df=3; 76)</td><td>3.553<sup>***</sup> (df=10; 28)</td><td>8.413<sup>***</sup> (df=6; 50)</td><td>12.531<sup>***</sup> (df=4; 53)</td></tr><tr><td colspan=\"7\" style=\"border-bottom: 1px solid black\"></td></tr><tr><td style=\"text-align: left\">Note:</td>\n",
       " <td colspan=\"6\" style=\"text-align: right\">\n",
       "  <sup>*</sup>p&lt;0.1;\n",
       "  <sup>**</sup>p&lt;0.05;\n",
       "  <sup>***</sup>p&lt;0.01\n",
       " </td></tr></table>"
      ],
      "text/plain": [
       "<stargazer.stargazer.Stargazer at 0x228a51d1670>"
      ]
     },
     "execution_count": 50,
     "metadata": {},
     "output_type": "execute_result"
    }
   ],
   "source": [
    "#Stargazer pokazujący proces usuwania zmiennych niestotnych w modelu\n",
    "Stargazer([m1, m2, m3, m4, m5, m6])"
   ]
  },
  {
   "cell_type": "code",
   "execution_count": 34,
   "id": "67bf3668-52c7-435d-a00d-fe9271240239",
   "metadata": {},
   "outputs": [],
   "source": [
    "#współczynnik VIF na współliniowość\n",
    "\n",
    "def get_vif(exogs, data):\n",
    "    '''Return VIF (variance inflation factor) DataFrame\n",
    "\n",
    "    Args:\n",
    "    exogs (list): list of exogenous/independent variables\n",
    "    data (DataFrame): the df storing all variables\n",
    "\n",
    "    Returns:\n",
    "    VIF and Tolerance DataFrame for each exogenous variable\n",
    "\n",
    "    Notes:\n",
    "    Assume we have a list of exogenous variable [X1, X2, X3, X4].\n",
    "    To calculate the VIF and Tolerance for each variable, we regress\n",
    "    each of them against other exogenous variables. For instance, the\n",
    "    regression model for X3 is defined as:\n",
    "                        X3 ~ X1 + X2 + X4\n",
    "    And then we extract the R-squared from the model to calculate:\n",
    "                    VIF = 1 / (1 - R-squared)\n",
    "                    Tolerance = 1 - R-squared\n",
    "    The cutoff to detect multicollinearity:\n",
    "                    VIF > 10 or Tolerance < 0.1\n",
    "    '''\n",
    "\n",
    "    # initialize dictionaries\n",
    "    vif_dict, tolerance_dict = {}, {}\n",
    "\n",
    "    # create formula for each exogenous variable\n",
    "    for exog in exogs:\n",
    "        not_exog = [i for i in exogs if i != exog]\n",
    "        formula = f\"{exog} ~ {' + '.join(not_exog)}\"\n",
    "\n",
    "        # extract r-squared from the fit\n",
    "        r_squared = smf.ols(formula, data=data).fit().rsquared\n",
    "\n",
    "        # calculate VIF\n",
    "        vif = 1/(1 - r_squared)\n",
    "        vif_dict[exog] = vif\n",
    "\n",
    "        # calculate tolerance\n",
    "        tolerance = 1 - r_squared\n",
    "        tolerance_dict[exog] = tolerance\n",
    "\n",
    "    # return VIF DataFrame\n",
    "    df_vif = pd.DataFrame({'VIF': vif_dict, 'Tolerance': tolerance_dict})\n",
    "\n",
    "    return df_vif"
   ]
  },
  {
   "cell_type": "code",
   "execution_count": 35,
   "id": "ba5c97a4-efb3-4cae-abcb-27df611ae157",
   "metadata": {},
   "outputs": [],
   "source": [
    "#zmienne do wsp. VIF (te, które zostały w modelu jeszcze)\n",
    "zmienne = ['palma','priv_pkb','ln_pkb_pc','edu_pkb_pc_sr',]"
   ]
  },
  {
   "cell_type": "code",
   "execution_count": 36,
   "id": "23fc526a",
   "metadata": {},
   "outputs": [
    {
     "data": {
      "text/plain": [
       "('palma',\n",
       " 'ln_pkb_pc',\n",
       " 'priv_pkb',\n",
       " 'nier_edu',\n",
       " 'bezrobocie',\n",
       " 'edu_pkb_pc_sr',\n",
       " 'edu_pkb_pc_wyz')"
      ]
     },
     "execution_count": 36,
     "metadata": {},
     "output_type": "execute_result"
    }
   ],
   "source": [
    "'palma','ln_pkb_pc','priv_pkb','nier_edu','bezrobocie','edu_pkb_pc_sr','edu_pkb_pc_wyz'"
   ]
  },
  {
   "cell_type": "code",
   "execution_count": 37,
   "id": "e4da9a1a-6b2c-4f2b-b6dd-d4a7f3453e48",
   "metadata": {},
   "outputs": [
    {
     "data": {
      "text/html": [
       "<div>\n",
       "<style scoped>\n",
       "    .dataframe tbody tr th:only-of-type {\n",
       "        vertical-align: middle;\n",
       "    }\n",
       "\n",
       "    .dataframe tbody tr th {\n",
       "        vertical-align: top;\n",
       "    }\n",
       "\n",
       "    .dataframe thead th {\n",
       "        text-align: right;\n",
       "    }\n",
       "</style>\n",
       "<table border=\"1\" class=\"dataframe\">\n",
       "  <thead>\n",
       "    <tr style=\"text-align: right;\">\n",
       "      <th></th>\n",
       "      <th>VIF</th>\n",
       "      <th>Tolerance</th>\n",
       "    </tr>\n",
       "  </thead>\n",
       "  <tbody>\n",
       "    <tr>\n",
       "      <th>palma</th>\n",
       "      <td>1.24</td>\n",
       "      <td>0.81</td>\n",
       "    </tr>\n",
       "    <tr>\n",
       "      <th>priv_pkb</th>\n",
       "      <td>2.38</td>\n",
       "      <td>0.42</td>\n",
       "    </tr>\n",
       "    <tr>\n",
       "      <th>ln_pkb_pc</th>\n",
       "      <td>2.25</td>\n",
       "      <td>0.44</td>\n",
       "    </tr>\n",
       "    <tr>\n",
       "      <th>edu_pkb_pc_sr</th>\n",
       "      <td>1.00</td>\n",
       "      <td>1.00</td>\n",
       "    </tr>\n",
       "  </tbody>\n",
       "</table>\n",
       "</div>"
      ],
      "text/plain": [
       "               VIF  Tolerance\n",
       "palma         1.24       0.81\n",
       "priv_pkb      2.38       0.42\n",
       "ln_pkb_pc     2.25       0.44\n",
       "edu_pkb_pc_sr 1.00       1.00"
      ]
     },
     "execution_count": 37,
     "metadata": {},
     "output_type": "execute_result"
    }
   ],
   "source": [
    "get_vif(exogs = zmienne, data = df )"
   ]
  },
  {
   "cell_type": "code",
   "execution_count": null,
   "id": "56510cd7-1d04-4ac0-9bd4-afe29f98b6b1",
   "metadata": {},
   "outputs": [],
   "source": [
    "#wysoka korelacja house_size, rooms_number i ich korelacji\n",
    "#wysoka korelacja building_age i building_age_2\n",
    "#nie odrzucam, ponieważ wszystkie zmienne są celowo skorelowane z sobą\n",
    "#a ewentualne usuniecie spowoduje obciążenie estymatora drugiej zmiennej"
   ]
  },
  {
   "cell_type": "code",
   "execution_count": 39,
   "id": "c80d6b21-fde8-499d-a514-ddf44ad5c28b",
   "metadata": {},
   "outputs": [
    {
     "data": {
      "text/plain": [
       "0.17"
      ]
     },
     "execution_count": 39,
     "metadata": {},
     "output_type": "execute_result"
    }
   ],
   "source": [
    "#dźwignia\n",
    "h_lev = (2*len(m7.params))/m7.nobs\n",
    "round(h_lev, 2)"
   ]
  },
  {
   "cell_type": "code",
   "execution_count": 41,
   "id": "8d075a78-d1a2-4f83-9862-21513c7327df",
   "metadata": {},
   "outputs": [
    {
     "data": {
      "image/png": "[encoded data removed]",
      "text/plain": [
       "<Figure size 1200x800 with 1 Axes>"
      ]
     },
     "metadata": {},
     "output_type": "display_data"
    }
   ],
   "source": [
    "#wykres obserwacji nietypowych ze względu na dźwignię, reszty i odl. Cooka\n",
    "\n",
    "sm.graphics.influence_plot(m7, criterion = 'Cooks')\n",
    "axvline(x = round(h_lev, 2), color = 'g')\n",
    "axhline(y=2, color = 'b')\n",
    "axhline(y=-2, color = 'b')\n",
    "savefig('obs_nietypowe.jpg')\n",
    "savefig(\"cook.jpg\")\n",
    "show()"
   ]
  },
  {
   "cell_type": "code",
   "execution_count": null,
   "id": "7ff22265-ac73-47ff-bfe1-d13cfd654ebb",
   "metadata": {},
   "outputs": [],
   "source": [
    "#kilka zmiennych wyszło odstających ale po indywidualnej analizie tych danych można wywnioskować,\n",
    "#że mieszkania są prawdopodobne i nie posiadają informacji błędnych więc nie zostały usunięte"
   ]
  },
  {
   "cell_type": "code",
   "execution_count": 26,
   "id": "e17dbbc3-16bd-49e6-80b4-9e8ec755be0f",
   "metadata": {},
   "outputs": [
    {
     "name": "stderr",
     "output_type": "stream",
     "text": [
      "D:\\python program\\lib\\site-packages\\statsmodels\\stats\\diagnostic.py:1081: FutureWarning: Support for multi-dimensional indexing (e.g. `obj[:, None]`) is deprecated and will be removed in a future version.  Convert to a numpy array before indexing instead.\n",
      "  aug = res.fittedvalues[:, None]\n"
     ]
    },
    {
     "data": {
      "text/plain": [
       "<class 'statsmodels.stats.contrast.ContrastResults'>\n",
       "<Wald test (chi2): statistic=4.629990692377991, p-value=0.09876664364235505, df_denom=2>"
      ]
     },
     "execution_count": 26,
     "metadata": {},
     "output_type": "execute_result"
    }
   ],
   "source": [
    "#test RESET na poprawną formę funkcyjną\n",
    "sms.linear_reset(m7, power = 3, test_type = 'fitted') "
   ]
  },
  {
   "cell_type": "code",
   "execution_count": null,
   "id": "0247f6b1-47eb-4977-bafa-7a7a5e4f9cb4",
   "metadata": {},
   "outputs": [],
   "source": [
    "#pvalue > 0.05 => nie ma podstaw od odrzucenia H0 => mamy poprawną formę funkcyjną"
   ]
  },
  {
   "cell_type": "code",
   "execution_count": null,
   "id": "7176eca3-3256-4e3c-ad5a-a897671c9ef4",
   "metadata": {},
   "outputs": [],
   "source": [
    "#test jarque-bera analizuje z wydruku OLS, pvalue < 0.05 => odrzucam hipoteze 0\n",
    "#reszty nie mają normalnego rozkładu, lecz zgodnie z CTG przy próbie badawczej\n",
    "# > 100 nie ma to większego znaczenia"
   ]
  },
  {
   "cell_type": "code",
   "execution_count": 28,
   "id": "c5df4dc2-1dd9-4e2d-ab3e-ef7958a28cee",
   "metadata": {},
   "outputs": [],
   "source": [
    "#oznaczniki\n",
    "nam1 = ['lagrange multiplier statistic', 'p-value', 'f-value', 'f p-value']"
   ]
  },
  {
   "cell_type": "code",
   "execution_count": 29,
   "id": "c081b6cb-9d7d-4205-b9b8-2830e72d16bf",
   "metadata": {},
   "outputs": [
    {
     "data": {
      "text/plain": [
       "[('lagrange multiplier statistic', 0.42271724798754406),\n",
       " ('p-value', 0.9805750785882749),\n",
       " ('f-value', 0.09727801084255285),\n",
       " ('f p-value', 0.9828896210113099)]"
      ]
     },
     "execution_count": 29,
     "metadata": {},
     "output_type": "execute_result"
    }
   ],
   "source": [
    "#TEST BREUSCHA-PAGANA na homoskedastyczność\n",
    "test1 = sms.het_breuschpagan(m7.resid, m7.model.exog)\n",
    "lzip(nam1, test1)"
   ]
  },
  {
   "cell_type": "code",
   "execution_count": null,
   "id": "03474c20-af24-4559-a54c-e5f775f3c185",
   "metadata": {},
   "outputs": [],
   "source": [
    "#pvalue < 0.05 => odrzucamy H0 => mamy heteroskedastyczność"
   ]
  },
  {
   "cell_type": "code",
   "execution_count": 30,
   "id": "b17e8be0-9957-4402-bb2f-ea4d86b197d1",
   "metadata": {},
   "outputs": [
    {
     "data": {
      "text/plain": [
       "[('lagrange multiplier statistic', 11.639627332079057),\n",
       " ('p-value', 0.6352183982645067),\n",
       " ('f-value', 0.7711388388658476),\n",
       " ('f p-value', 0.6927709041930092)]"
      ]
     },
     "execution_count": 30,
     "metadata": {},
     "output_type": "execute_result"
    }
   ],
   "source": [
    "#TEST WHITE'A\n",
    "test2 = sms.het_white(m7.resid, m7.model.exog)\n",
    "lzip(nam1, test2)"
   ]
  },
  {
   "cell_type": "code",
   "execution_count": null,
   "id": "5c9e3eef-7436-4b72-93df-bd01d9393764",
   "metadata": {},
   "outputs": [],
   "source": [
    "#pvalue < 0.05 => odrzucamy H0 => dodatkowe potwierdzenie, że mamy heteroskedastyczność"
   ]
  },
  {
   "cell_type": "code",
   "execution_count": 41,
   "id": "93e3ad1e-2d07-44b8-b35c-1f45c2522e41",
   "metadata": {},
   "outputs": [
    {
     "data": {
      "text/html": [
       "<table class=\"simpletable\">\n",
       "<caption>OLS Regression Results</caption>\n",
       "<tr>\n",
       "  <th>Dep. Variable:</th>        <td>ln_price</td>     <th>  R-squared:         </th> <td>   0.815</td> \n",
       "</tr>\n",
       "<tr>\n",
       "  <th>Model:</th>                   <td>OLS</td>       <th>  Adj. R-squared:    </th> <td>   0.812</td> \n",
       "</tr>\n",
       "<tr>\n",
       "  <th>Method:</th>             <td>Least Squares</td>  <th>  F-statistic:       </th> <td>   243.3</td> \n",
       "</tr>\n",
       "<tr>\n",
       "  <th>Date:</th>             <td>Wed, 18 Jan 2023</td> <th>  Prob (F-statistic):</th> <td>8.54e-207</td>\n",
       "</tr>\n",
       "<tr>\n",
       "  <th>Time:</th>                 <td>22:29:46</td>     <th>  Log-Likelihood:    </th> <td>  156.65</td> \n",
       "</tr>\n",
       "<tr>\n",
       "  <th>No. Observations:</th>      <td>   629</td>      <th>  AIC:               </th> <td>  -291.3</td> \n",
       "</tr>\n",
       "<tr>\n",
       "  <th>Df Residuals:</th>          <td>   618</td>      <th>  BIC:               </th> <td>  -242.4</td> \n",
       "</tr>\n",
       "<tr>\n",
       "  <th>Df Model:</th>              <td>    10</td>      <th>                     </th>     <td> </td>    \n",
       "</tr>\n",
       "<tr>\n",
       "  <th>Covariance Type:</th>         <td>HC0</td>       <th>                     </th>     <td> </td>    \n",
       "</tr>\n",
       "</table>\n",
       "<table class=\"simpletable\">\n",
       "<tr>\n",
       "             <td></td>                <th>coef</th>     <th>std err</th>      <th>z</th>      <th>P>|z|</th>  <th>[0.025</th>    <th>0.975]</th>  \n",
       "</tr>\n",
       "<tr>\n",
       "  <th>Intercept</th>               <td>   12.7895</td> <td>    0.084</td> <td>  151.601</td> <td> 0.000</td> <td>   12.624</td> <td>   12.955</td>\n",
       "</tr>\n",
       "<tr>\n",
       "  <th>house_size</th>              <td>    0.0209</td> <td>    0.001</td> <td>   15.026</td> <td> 0.000</td> <td>    0.018</td> <td>    0.024</td>\n",
       "</tr>\n",
       "<tr>\n",
       "  <th>building_age</th>            <td>   -0.0073</td> <td>    0.001</td> <td>   -7.679</td> <td> 0.000</td> <td>   -0.009</td> <td>   -0.005</td>\n",
       "</tr>\n",
       "<tr>\n",
       "  <th>building_age_2</th>          <td>  6.88e-05</td> <td> 1.04e-05</td> <td>    6.622</td> <td> 0.000</td> <td> 4.84e-05</td> <td> 8.92e-05</td>\n",
       "</tr>\n",
       "<tr>\n",
       "  <th>rooms_number</th>            <td>    0.1136</td> <td>    0.018</td> <td>    6.193</td> <td> 0.000</td> <td>    0.078</td> <td>    0.150</td>\n",
       "</tr>\n",
       "<tr>\n",
       "  <th>market_type</th>             <td>   -0.0862</td> <td>    0.035</td> <td>   -2.463</td> <td> 0.014</td> <td>   -0.155</td> <td>   -0.018</td>\n",
       "</tr>\n",
       "<tr>\n",
       "  <th>district</th>                <td>    0.1963</td> <td>    0.026</td> <td>    7.448</td> <td> 0.000</td> <td>    0.145</td> <td>    0.248</td>\n",
       "</tr>\n",
       "<tr>\n",
       "  <th>basement</th>                <td>    0.1508</td> <td>    0.034</td> <td>    4.439</td> <td> 0.000</td> <td>    0.084</td> <td>    0.217</td>\n",
       "</tr>\n",
       "<tr>\n",
       "  <th>elevator</th>                <td>    0.0731</td> <td>    0.015</td> <td>    4.850</td> <td> 0.000</td> <td>    0.044</td> <td>    0.103</td>\n",
       "</tr>\n",
       "<tr>\n",
       "  <th>ln_metro_distance</th>       <td>   -0.0680</td> <td>    0.008</td> <td>   -8.271</td> <td> 0.000</td> <td>   -0.084</td> <td>   -0.052</td>\n",
       "</tr>\n",
       "<tr>\n",
       "  <th>house_size:rooms_number</th> <td>   -0.0020</td> <td>    0.000</td> <td>   -7.500</td> <td> 0.000</td> <td>   -0.002</td> <td>   -0.001</td>\n",
       "</tr>\n",
       "</table>\n",
       "<table class=\"simpletable\">\n",
       "<tr>\n",
       "  <th>Omnibus:</th>       <td>51.973</td> <th>  Durbin-Watson:     </th> <td>   1.803</td>\n",
       "</tr>\n",
       "<tr>\n",
       "  <th>Prob(Omnibus):</th> <td> 0.000</td> <th>  Jarque-Bera (JB):  </th> <td>  80.875</td>\n",
       "</tr>\n",
       "<tr>\n",
       "  <th>Skew:</th>          <td> 0.591</td> <th>  Prob(JB):          </th> <td>2.74e-18</td>\n",
       "</tr>\n",
       "<tr>\n",
       "  <th>Kurtosis:</th>      <td> 4.300</td> <th>  Cond. No.          </th> <td>3.85e+04</td>\n",
       "</tr>\n",
       "</table><br/><br/>Notes:<br/>[1] Standard Errors are heteroscedasticity robust (HC0)<br/>[2] The condition number is large, 3.85e+04. This might indicate that there are<br/>strong multicollinearity or other numerical problems."
      ],
      "text/plain": [
       "<class 'statsmodels.iolib.summary.Summary'>\n",
       "\"\"\"\n",
       "                            OLS Regression Results                            \n",
       "==============================================================================\n",
       "Dep. Variable:               ln_price   R-squared:                       0.815\n",
       "Model:                            OLS   Adj. R-squared:                  0.812\n",
       "Method:                 Least Squares   F-statistic:                     243.3\n",
       "Date:                Wed, 18 Jan 2023   Prob (F-statistic):          8.54e-207\n",
       "Time:                        22:29:46   Log-Likelihood:                 156.65\n",
       "No. Observations:                 629   AIC:                            -291.3\n",
       "Df Residuals:                     618   BIC:                            -242.4\n",
       "Df Model:                          10                                         \n",
       "Covariance Type:                  HC0                                         \n",
       "===========================================================================================\n",
       "                              coef    std err          z      P>|z|      [0.025      0.975]\n",
       "-------------------------------------------------------------------------------------------\n",
       "Intercept                  12.7895      0.084    151.601      0.000      12.624      12.955\n",
       "house_size                  0.0209      0.001     15.026      0.000       0.018       0.024\n",
       "building_age               -0.0073      0.001     -7.679      0.000      -0.009      -0.005\n",
       "building_age_2            6.88e-05   1.04e-05      6.622      0.000    4.84e-05    8.92e-05\n",
       "rooms_number                0.1136      0.018      6.193      0.000       0.078       0.150\n",
       "market_type                -0.0862      0.035     -2.463      0.014      -0.155      -0.018\n",
       "district                    0.1963      0.026      7.448      0.000       0.145       0.248\n",
       "basement                    0.1508      0.034      4.439      0.000       0.084       0.217\n",
       "elevator                    0.0731      0.015      4.850      0.000       0.044       0.103\n",
       "ln_metro_distance          -0.0680      0.008     -8.271      0.000      -0.084      -0.052\n",
       "house_size:rooms_number    -0.0020      0.000     -7.500      0.000      -0.002      -0.001\n",
       "==============================================================================\n",
       "Omnibus:                       51.973   Durbin-Watson:                   1.803\n",
       "Prob(Omnibus):                  0.000   Jarque-Bera (JB):               80.875\n",
       "Skew:                           0.591   Prob(JB):                     2.74e-18\n",
       "Kurtosis:                       4.300   Cond. No.                     3.85e+04\n",
       "==============================================================================\n",
       "\n",
       "Notes:\n",
       "[1] Standard Errors are heteroscedasticity robust (HC0)\n",
       "[2] The condition number is large, 3.85e+04. This might indicate that there are\n",
       "strong multicollinearity or other numerical problems.\n",
       "\"\"\""
      ]
     },
     "execution_count": 41,
     "metadata": {},
     "output_type": "execute_result"
    }
   ],
   "source": [
    "#z uwagi na heteroskedastyczność stosujemy macierz odporną White'a\n",
    "m7 = smf.ols(formula = 'ln_price ~ house_size + building_age + building_age_2 + rooms_number + market_type + district + basement + elevator + ln_metro_distance + house_size:rooms_number', data = df).fit(cov_type = 'HC0')\n",
    "m7.summary()"
   ]
  },
  {
   "cell_type": "code",
   "execution_count": 42,
   "id": "ecf335af-a7c5-45a7-9d88-5edbcd9fec33",
   "metadata": {},
   "outputs": [
    {
     "data": {
      "text/html": [
       "<table style=\"text-align:center\"><tr><td colspan=\"3\" style=\"border-bottom: 1px solid black\"></td></tr><tr><td style=\"text-align:left\"></td><td colspan=\"2\"><em>Dependent variable:ln_price</em></td></tr><tr><td style=\"text-align:left\"></td><tr><td style=\"text-align:left\"></td><td>(1)</td><td>(2)</td></tr><tr><td colspan=\"3\" style=\"border-bottom: 1px solid black\"></td></tr><tr><td style=\"text-align:left\">Intercept</td><td>12.790<sup>***</sup></td><td>12.790<sup>***</sup></td></tr><tr><td style=\"text-align:left\"></td><td>(0.084)</td><td>(0.084)</td></tr><tr><td style=\"text-align:left\">basement</td><td>0.151<sup>***</sup></td><td>0.151<sup>***</sup></td></tr><tr><td style=\"text-align:left\"></td><td>(0.029)</td><td>(0.034)</td></tr><tr><td style=\"text-align:left\">building_age</td><td>-0.007<sup>***</sup></td><td>-0.007<sup>***</sup></td></tr><tr><td style=\"text-align:left\"></td><td>(0.001)</td><td>(0.001)</td></tr><tr><td style=\"text-align:left\">building_age_2</td><td>0.000<sup>***</sup></td><td>0.000<sup>***</sup></td></tr><tr><td style=\"text-align:left\"></td><td>(0.000)</td><td>(0.000)</td></tr><tr><td style=\"text-align:left\">district</td><td>0.196<sup>***</sup></td><td>0.196<sup>***</sup></td></tr><tr><td style=\"text-align:left\"></td><td>(0.023)</td><td>(0.026)</td></tr><tr><td style=\"text-align:left\">elevator</td><td>0.073<sup>***</sup></td><td>0.073<sup>***</sup></td></tr><tr><td style=\"text-align:left\"></td><td>(0.017)</td><td>(0.015)</td></tr><tr><td style=\"text-align:left\">house_size</td><td>0.021<sup>***</sup></td><td>0.021<sup>***</sup></td></tr><tr><td style=\"text-align:left\"></td><td>(0.001)</td><td>(0.001)</td></tr><tr><td style=\"text-align:left\">house_size:rooms_number</td><td>-0.002<sup>***</sup></td><td>-0.002<sup>***</sup></td></tr><tr><td style=\"text-align:left\"></td><td>(0.000)</td><td>(0.000)</td></tr><tr><td style=\"text-align:left\">ln_metro_distance</td><td>-0.068<sup>***</sup></td><td>-0.068<sup>***</sup></td></tr><tr><td style=\"text-align:left\"></td><td>(0.008)</td><td>(0.008)</td></tr><tr><td style=\"text-align:left\">market_type</td><td>-0.086<sup>**</sup></td><td>-0.086<sup>**</sup></td></tr><tr><td style=\"text-align:left\"></td><td>(0.044)</td><td>(0.035)</td></tr><tr><td style=\"text-align:left\">rooms_number</td><td>0.114<sup>***</sup></td><td>0.114<sup>***</sup></td></tr><tr><td style=\"text-align:left\"></td><td>(0.020)</td><td>(0.018)</td></tr><td colspan=\"3\" style=\"border-bottom: 1px solid black\"></td></tr><tr><td style=\"text-align: left\">Observations</td><td>629</td><td>629</td></tr><tr><td style=\"text-align: left\">R<sup>2</sup></td><td>0.815</td><td>0.815</td></tr><tr><td style=\"text-align: left\">Adjusted R<sup>2</sup></td><td>0.812</td><td>0.812</td></tr><tr><td style=\"text-align: left\">Residual Std. Error</td><td>0.190 (df=618)</td><td>0.190 (df=618)</td></tr><tr><td style=\"text-align: left\">F Statistic</td><td>271.865<sup>***</sup> (df=10; 618)</td><td>243.284<sup>***</sup> (df=10; 618)</td></tr><tr><td colspan=\"3\" style=\"border-bottom: 1px solid black\"></td></tr><tr><td style=\"text-align: left\">Note:</td>\n",
       " <td colspan=\"2\" style=\"text-align: right\">\n",
       "  <sup>*</sup>p&lt;0.1;\n",
       "  <sup>**</sup>p&lt;0.05;\n",
       "  <sup>***</sup>p&lt;0.01\n",
       " </td></tr></table>"
      ],
      "text/plain": [
       "<stargazer.stargazer.Stargazer at 0x2580141be20>"
      ]
     },
     "execution_count": 42,
     "metadata": {},
     "output_type": "execute_result"
    }
   ],
   "source": [
    "#Stargazer porównujący model z i bez macierzy odpornej White'a\n",
    "Stargazer([m6, m7])"
   ]
  },
  {
   "cell_type": "code",
   "execution_count": 9,
   "id": "41ec45b1-2d0c-4fac-a03e-84806651042a",
   "metadata": {},
   "outputs": [
    {
     "data": {
      "image/png": "[encoded data removed]",
      "text/plain": [
       "<Figure size 640x480 with 1 Axes>"
      ]
     },
     "metadata": {},
     "output_type": "display_data"
    },
    {
     "data": {
      "image/png": "[encoded data removed]",
      "text/plain": [
       "<Figure size 640x480 with 1 Axes>"
      ]
     },
     "metadata": {},
     "output_type": "display_data"
    }
   ],
   "source": [
    "#wykres kwantylowy rozkładu reszt\n",
    "sm.qqplot(m6.resid, line = 'r')\n",
    "savefig('wykres_kwantylowy_reszt.jpg')\n",
    "show()\n",
    "#histogram rozkładu reszt\n",
    "hist(m6.resid, bins = 20, color = 'mediumorchid', edgecolor = 'black')\n",
    "xlabel('Theoretical Quantiles')\n",
    "ylabel('Sample Quantiles')\n",
    "savefig('histogram_reszt.jpg')\n",
    "show()"
   ]
  },
  {
   "cell_type": "code",
   "execution_count": 11,
   "id": "0bbc31e0-42f7-4af8-8e25-01f1635b2195",
   "metadata": {},
   "outputs": [
    {
     "data": {
      "image/png": "[encoded data removed]",
      "text/plain": [
       "<Figure size 640x480 with 1 Axes>"
      ]
     },
     "metadata": {},
     "output_type": "display_data"
    }
   ],
   "source": [
    "#wykres rozrzutu pomiędzy resztami a wartościami dopasowanymi w modelu\n",
    "scatter(m6.fittedvalues, m6.resid)\n",
    "axhline(y = 0, color = 'mediumorchid')\n",
    "xlabel('fitted values')\n",
    "ylabel('residuals')\n",
    "savefig('reszty_fittedvalues.jpg')\n",
    "show()"
   ]
  },
  {
   "cell_type": "code",
   "execution_count": 45,
   "id": "8ddd63dd-75b8-49f8-a997-e0d8711d8738",
   "metadata": {},
   "outputs": [],
   "source": [
    "#wyniki estymacji\n",
    "#wzrosto o jedną jednostkę miary\n",
    "#lub występowanie zmiennej w obserwacji w przypadku zmiennych binarnych"
   ]
  },
  {
   "cell_type": "code",
   "execution_count": null,
   "id": "7700d7fa-0c4c-47c7-b4aa-aeaab0652be9",
   "metadata": {},
   "outputs": [],
   "source": [
    "#metraż\n",
    "#(e**(0.021-0.002*rooms_number)-1)*100%"
   ]
  },
  {
   "cell_type": "code",
   "execution_count": 58,
   "id": "fbc28e29-6d38-4f33-86aa-0d9492afad97",
   "metadata": {},
   "outputs": [],
   "source": [
    "#liczba lat budynku\n",
    "#(e**(-0.007+2*0.00007*building_age)-1)*100%\n"
   ]
  },
  {
   "cell_type": "code",
   "execution_count": null,
   "id": "0183faf4-3ca9-4333-a1af-ade394fa4d9b",
   "metadata": {},
   "outputs": [],
   "source": [
    "#liczba pokoi\n",
    "#(e**(0.114-0.002*house_size)-1)*100%"
   ]
  },
  {
   "cell_type": "code",
   "execution_count": 49,
   "id": "5bf916c5-42f6-47ed-b09c-fe44f3a6cdfc",
   "metadata": {},
   "outputs": [
    {
     "data": {
      "text/plain": [
       "-8.240576877984896"
      ]
     },
     "execution_count": 49,
     "metadata": {},
     "output_type": "execute_result"
    }
   ],
   "source": [
    "#typ rynku\n",
    "(e**(-0.086) -1)*100"
   ]
  },
  {
   "cell_type": "code",
   "execution_count": 50,
   "id": "d7fb0b34-6745-4454-83f2-cee6dd9362fb",
   "metadata": {},
   "outputs": [
    {
     "data": {
      "text/plain": [
       "21.652690533431617"
      ]
     },
     "execution_count": 50,
     "metadata": {},
     "output_type": "execute_result"
    }
   ],
   "source": [
    "#dzielnica\n",
    "(e**(0.196) -1)*100"
   ]
  },
  {
   "cell_type": "code",
   "execution_count": 51,
   "id": "94c2fa24-8c53-4a41-a3db-3f8e6911cfd4",
   "metadata": {},
   "outputs": [
    {
     "data": {
      "text/plain": [
       "16.299665808182027"
      ]
     },
     "execution_count": 51,
     "metadata": {},
     "output_type": "execute_result"
    }
   ],
   "source": [
    "#piwnica\n",
    "(e**(0.151) -1)*100"
   ]
  },
  {
   "cell_type": "code",
   "execution_count": 52,
   "id": "a106b33b-4771-49be-9d07-1a2ca20d1d5d",
   "metadata": {},
   "outputs": [
    {
     "data": {
      "text/plain": [
       "7.573053691470344"
      ]
     },
     "execution_count": 52,
     "metadata": {},
     "output_type": "execute_result"
    }
   ],
   "source": [
    "#winda\n",
    "(e**(0.073) -1)*100"
   ]
  },
  {
   "cell_type": "code",
   "execution_count": 53,
   "id": "9e2dae67-e479-4a74-9901-1ac129bf6eea",
   "metadata": {},
   "outputs": [
    {
     "data": {
      "text/plain": [
       "-6.800000000000001"
      ]
     },
     "execution_count": 53,
     "metadata": {},
     "output_type": "execute_result"
    }
   ],
   "source": [
    "#odległość od metra\n",
    "-0.068 * 100"
   ]
  }
 ],
 "metadata": {
  "kernelspec": {
   "display_name": "Python 3 (ipykernel)",
   "language": "python",
   "name": "python3"
  },
  "language_info": {
   "codemirror_mode": {
    "name": "ipython",
    "version": 3
   },
   "file_extension": ".py",
   "mimetype": "text/x-python",
   "name": "python",
   "nbconvert_exporter": "python",
   "pygments_lexer": "ipython3",
   "version": "3.9.13"
  }
 },
 "nbformat": 4,
 "nbformat_minor": 5
}
